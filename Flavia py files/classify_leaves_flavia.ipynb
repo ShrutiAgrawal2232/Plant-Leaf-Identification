{
 "cells": [
  {
   "cell_type": "markdown",
   "metadata": {},
   "source": [
    "# Plant Leaf Classification\n",
    "\n",
    "Applying machine learning models for classification of plant leaf images"
   ]
  },
  {
   "cell_type": "markdown",
   "metadata": {},
   "source": [
    "### Importing necessary libraries"
   ]
  },
  {
   "cell_type": "code",
   "execution_count": 1,
   "metadata": {},
   "outputs": [],
   "source": [
    "import numpy as np\n",
    "import pandas as pd\n",
    "import os\n",
    "import string"
   ]
  },
  {
   "cell_type": "markdown",
   "metadata": {},
   "source": [
    "### Reading the dataset"
   ]
  },
  {
   "cell_type": "code",
   "execution_count": 2,
   "metadata": {},
   "outputs": [],
   "source": [
    "dataset = pd.read_csv(\"Flavia_features.csv\")"
   ]
  },
  {
   "cell_type": "code",
   "execution_count": 3,
   "metadata": {},
   "outputs": [
    {
     "output_type": "execute_result",
     "data": {
      "text/plain": [
       "   Unnamed: 0      area    perimeter  physiological_length  \\\n",
       "0           0  197484.0  3479.036038                  1416   \n",
       "1           0  101248.0  2490.381812                  1190   \n",
       "2           0   86570.5  2290.683327                  1095   \n",
       "3           0  190214.0  2856.479353                  1318   \n",
       "4           0  227727.0  2917.248904                  1324   \n",
       "\n",
       "   physiological_width  aspect_ratio  rectangularity  circularity    mean_r  \\\n",
       "0                  759      1.865613        5.442183    61.289480  6.395667   \n",
       "1                  130      9.153846        1.527931    61.255546  7.049316   \n",
       "2                  119      9.201681        1.505189    60.612219  3.434303   \n",
       "3                  254      5.188976        1.759976    42.896287  7.670415   \n",
       "4                  286      4.629371        1.662798    37.370804  8.992028   \n",
       "\n",
       "      mean_g     mean_b   stddev_r   stddev_g   stddev_b   contrast  \\\n",
       "0  13.643413   4.388007  24.025329  40.200931  21.448412  12.639688   \n",
       "1   9.232018  10.876066  33.816205  37.382221  46.479230   8.137424   \n",
       "2   6.371511   2.644757  19.975699  29.057374  19.275050   8.553729   \n",
       "3  13.303599   6.049157  28.822885  40.221845  26.948604   8.440064   \n",
       "4  16.671171   6.294281  30.967158  45.040192  28.595326   8.641447   \n",
       "\n",
       "   correlation  inverse_difference_moments   entropy  \n",
       "0     0.997666                    0.911738  1.688689  \n",
       "1     0.997191                    0.944818  1.193795  \n",
       "2     0.996610                    0.959023  0.848758  \n",
       "3     0.998419                    0.914331  1.673914  \n",
       "4     0.998568                    0.898644  1.968081  "
      ],
      "text/html": "<div>\n<style scoped>\n    .dataframe tbody tr th:only-of-type {\n        vertical-align: middle;\n    }\n\n    .dataframe tbody tr th {\n        vertical-align: top;\n    }\n\n    .dataframe thead th {\n        text-align: right;\n    }\n</style>\n<table border=\"1\" class=\"dataframe\">\n  <thead>\n    <tr style=\"text-align: right;\">\n      <th></th>\n      <th>Unnamed: 0</th>\n      <th>area</th>\n      <th>perimeter</th>\n      <th>physiological_length</th>\n      <th>physiological_width</th>\n      <th>aspect_ratio</th>\n      <th>rectangularity</th>\n      <th>circularity</th>\n      <th>mean_r</th>\n      <th>mean_g</th>\n      <th>mean_b</th>\n      <th>stddev_r</th>\n      <th>stddev_g</th>\n      <th>stddev_b</th>\n      <th>contrast</th>\n      <th>correlation</th>\n      <th>inverse_difference_moments</th>\n      <th>entropy</th>\n    </tr>\n  </thead>\n  <tbody>\n    <tr>\n      <th>0</th>\n      <td>0</td>\n      <td>197484.0</td>\n      <td>3479.036038</td>\n      <td>1416</td>\n      <td>759</td>\n      <td>1.865613</td>\n      <td>5.442183</td>\n      <td>61.289480</td>\n      <td>6.395667</td>\n      <td>13.643413</td>\n      <td>4.388007</td>\n      <td>24.025329</td>\n      <td>40.200931</td>\n      <td>21.448412</td>\n      <td>12.639688</td>\n      <td>0.997666</td>\n      <td>0.911738</td>\n      <td>1.688689</td>\n    </tr>\n    <tr>\n      <th>1</th>\n      <td>0</td>\n      <td>101248.0</td>\n      <td>2490.381812</td>\n      <td>1190</td>\n      <td>130</td>\n      <td>9.153846</td>\n      <td>1.527931</td>\n      <td>61.255546</td>\n      <td>7.049316</td>\n      <td>9.232018</td>\n      <td>10.876066</td>\n      <td>33.816205</td>\n      <td>37.382221</td>\n      <td>46.479230</td>\n      <td>8.137424</td>\n      <td>0.997191</td>\n      <td>0.944818</td>\n      <td>1.193795</td>\n    </tr>\n    <tr>\n      <th>2</th>\n      <td>0</td>\n      <td>86570.5</td>\n      <td>2290.683327</td>\n      <td>1095</td>\n      <td>119</td>\n      <td>9.201681</td>\n      <td>1.505189</td>\n      <td>60.612219</td>\n      <td>3.434303</td>\n      <td>6.371511</td>\n      <td>2.644757</td>\n      <td>19.975699</td>\n      <td>29.057374</td>\n      <td>19.275050</td>\n      <td>8.553729</td>\n      <td>0.996610</td>\n      <td>0.959023</td>\n      <td>0.848758</td>\n    </tr>\n    <tr>\n      <th>3</th>\n      <td>0</td>\n      <td>190214.0</td>\n      <td>2856.479353</td>\n      <td>1318</td>\n      <td>254</td>\n      <td>5.188976</td>\n      <td>1.759976</td>\n      <td>42.896287</td>\n      <td>7.670415</td>\n      <td>13.303599</td>\n      <td>6.049157</td>\n      <td>28.822885</td>\n      <td>40.221845</td>\n      <td>26.948604</td>\n      <td>8.440064</td>\n      <td>0.998419</td>\n      <td>0.914331</td>\n      <td>1.673914</td>\n    </tr>\n    <tr>\n      <th>4</th>\n      <td>0</td>\n      <td>227727.0</td>\n      <td>2917.248904</td>\n      <td>1324</td>\n      <td>286</td>\n      <td>4.629371</td>\n      <td>1.662798</td>\n      <td>37.370804</td>\n      <td>8.992028</td>\n      <td>16.671171</td>\n      <td>6.294281</td>\n      <td>30.967158</td>\n      <td>45.040192</td>\n      <td>28.595326</td>\n      <td>8.641447</td>\n      <td>0.998568</td>\n      <td>0.898644</td>\n      <td>1.968081</td>\n    </tr>\n  </tbody>\n</table>\n</div>"
     },
     "metadata": {},
     "execution_count": 3
    }
   ],
   "source": [
    "dataset.head(5)"
   ]
  },
  {
   "cell_type": "code",
   "execution_count": 4,
   "metadata": {},
   "outputs": [
    {
     "output_type": "execute_result",
     "data": {
      "text/plain": [
       "pandas.core.frame.DataFrame"
      ]
     },
     "metadata": {},
     "execution_count": 4
    }
   ],
   "source": [
    "type(dataset)"
   ]
  },
  {
   "cell_type": "code",
   "execution_count": 5,
   "metadata": {},
   "outputs": [
    {
     "output_type": "execute_result",
     "data": {
      "text/plain": [
       "'C:\\\\Users\\\\bhara\\\\Desktop\\\\Plant-Leaf-Identification-master\\\\Flavia leaves dataset'"
      ]
     },
     "metadata": {},
     "execution_count": 5
    }
   ],
   "source": [
    "maindir = r'C:\\Users\\bhara\\Desktop\\Plant-Leaf-Identification-master'\n",
    "ds_path = maindir + \"\\\\Flavia leaves dataset\"\n",
    "img_files = os.listdir(ds_path)\n",
    "ds_path"
   ]
  },
  {
   "cell_type": "markdown",
   "metadata": {},
   "source": [
    "### Creating target labels\n",
    "\n",
    "Breakpoints are used alongside the image file to create a vector of target labels. The breakpoints are specified in Flavia leaves dataset website."
   ]
  },
  {
   "cell_type": "code",
   "execution_count": 6,
   "metadata": {},
   "outputs": [],
   "source": [
    "breakpoints = [1001,1059,1060,1122,1552,1616,1123,1194,1195,1267,1268,1323,1324,1385,1386,1437,1497,1551,1438,1496,2001,2050,2051,2113,2114,2165,2166,2230,2231,2290,2291,2346,2347,2423,2424,2485,2486,2546,2547,2612,2616,2675,3001,3055,3056,3110,3111,3175,3176,3229,3230,3281,3282,3334,3335,3389,3390,3446,3447,3510,3511,3563,3566,3621]"
   ]
  },
  {
   "cell_type": "code",
   "execution_count": 7,
   "metadata": {},
   "outputs": [],
   "source": [
    "target_list = []\n",
    "for file in img_files:\n",
    "    target_num = int(file.split(\".\")[0])\n",
    "    flag = 0\n",
    "    i = 0 \n",
    "    for i in range(0,len(breakpoints),2):\n",
    "        if((target_num >= breakpoints[i]) and (target_num <= breakpoints[i+1])):\n",
    "            flag = 1\n",
    "            break\n",
    "    if(flag==1):\n",
    "        target = int((i/2))\n",
    "        target_list.append(target)\n",
    "# target_list"
   ]
  },
  {
   "cell_type": "code",
   "execution_count": 8,
   "metadata": {},
   "outputs": [
    {
     "output_type": "execute_result",
     "data": {
      "text/plain": [
       "1907"
      ]
     },
     "metadata": {},
     "execution_count": 8
    }
   ],
   "source": [
    "y = np.array(target_list)\n",
    "y\n",
    "len(y)"
   ]
  },
  {
   "cell_type": "code",
   "execution_count": 9,
   "metadata": {},
   "outputs": [],
   "source": [
    "X = dataset.iloc[:,1:]"
   ]
  },
  {
   "cell_type": "code",
   "execution_count": 10,
   "metadata": {},
   "outputs": [
    {
     "output_type": "execute_result",
     "data": {
      "text/plain": [
       "       area    perimeter  physiological_length  physiological_width  \\\n",
       "0  197484.0  3479.036038                  1416                  759   \n",
       "1  101248.0  2490.381812                  1190                  130   \n",
       "2   86570.5  2290.683327                  1095                  119   \n",
       "3  190214.0  2856.479353                  1318                  254   \n",
       "4  227727.0  2917.248904                  1324                  286   \n",
       "\n",
       "   aspect_ratio  rectangularity  circularity    mean_r     mean_g     mean_b  \\\n",
       "0      1.865613        5.442183    61.289480  6.395667  13.643413   4.388007   \n",
       "1      9.153846        1.527931    61.255546  7.049316   9.232018  10.876066   \n",
       "2      9.201681        1.505189    60.612219  3.434303   6.371511   2.644757   \n",
       "3      5.188976        1.759976    42.896287  7.670415  13.303599   6.049157   \n",
       "4      4.629371        1.662798    37.370804  8.992028  16.671171   6.294281   \n",
       "\n",
       "    stddev_r   stddev_g   stddev_b   contrast  correlation  \\\n",
       "0  24.025329  40.200931  21.448412  12.639688     0.997666   \n",
       "1  33.816205  37.382221  46.479230   8.137424     0.997191   \n",
       "2  19.975699  29.057374  19.275050   8.553729     0.996610   \n",
       "3  28.822885  40.221845  26.948604   8.440064     0.998419   \n",
       "4  30.967158  45.040192  28.595326   8.641447     0.998568   \n",
       "\n",
       "   inverse_difference_moments   entropy  \n",
       "0                    0.911738  1.688689  \n",
       "1                    0.944818  1.193795  \n",
       "2                    0.959023  0.848758  \n",
       "3                    0.914331  1.673914  \n",
       "4                    0.898644  1.968081  "
      ],
      "text/html": "<div>\n<style scoped>\n    .dataframe tbody tr th:only-of-type {\n        vertical-align: middle;\n    }\n\n    .dataframe tbody tr th {\n        vertical-align: top;\n    }\n\n    .dataframe thead th {\n        text-align: right;\n    }\n</style>\n<table border=\"1\" class=\"dataframe\">\n  <thead>\n    <tr style=\"text-align: right;\">\n      <th></th>\n      <th>area</th>\n      <th>perimeter</th>\n      <th>physiological_length</th>\n      <th>physiological_width</th>\n      <th>aspect_ratio</th>\n      <th>rectangularity</th>\n      <th>circularity</th>\n      <th>mean_r</th>\n      <th>mean_g</th>\n      <th>mean_b</th>\n      <th>stddev_r</th>\n      <th>stddev_g</th>\n      <th>stddev_b</th>\n      <th>contrast</th>\n      <th>correlation</th>\n      <th>inverse_difference_moments</th>\n      <th>entropy</th>\n    </tr>\n  </thead>\n  <tbody>\n    <tr>\n      <th>0</th>\n      <td>197484.0</td>\n      <td>3479.036038</td>\n      <td>1416</td>\n      <td>759</td>\n      <td>1.865613</td>\n      <td>5.442183</td>\n      <td>61.289480</td>\n      <td>6.395667</td>\n      <td>13.643413</td>\n      <td>4.388007</td>\n      <td>24.025329</td>\n      <td>40.200931</td>\n      <td>21.448412</td>\n      <td>12.639688</td>\n      <td>0.997666</td>\n      <td>0.911738</td>\n      <td>1.688689</td>\n    </tr>\n    <tr>\n      <th>1</th>\n      <td>101248.0</td>\n      <td>2490.381812</td>\n      <td>1190</td>\n      <td>130</td>\n      <td>9.153846</td>\n      <td>1.527931</td>\n      <td>61.255546</td>\n      <td>7.049316</td>\n      <td>9.232018</td>\n      <td>10.876066</td>\n      <td>33.816205</td>\n      <td>37.382221</td>\n      <td>46.479230</td>\n      <td>8.137424</td>\n      <td>0.997191</td>\n      <td>0.944818</td>\n      <td>1.193795</td>\n    </tr>\n    <tr>\n      <th>2</th>\n      <td>86570.5</td>\n      <td>2290.683327</td>\n      <td>1095</td>\n      <td>119</td>\n      <td>9.201681</td>\n      <td>1.505189</td>\n      <td>60.612219</td>\n      <td>3.434303</td>\n      <td>6.371511</td>\n      <td>2.644757</td>\n      <td>19.975699</td>\n      <td>29.057374</td>\n      <td>19.275050</td>\n      <td>8.553729</td>\n      <td>0.996610</td>\n      <td>0.959023</td>\n      <td>0.848758</td>\n    </tr>\n    <tr>\n      <th>3</th>\n      <td>190214.0</td>\n      <td>2856.479353</td>\n      <td>1318</td>\n      <td>254</td>\n      <td>5.188976</td>\n      <td>1.759976</td>\n      <td>42.896287</td>\n      <td>7.670415</td>\n      <td>13.303599</td>\n      <td>6.049157</td>\n      <td>28.822885</td>\n      <td>40.221845</td>\n      <td>26.948604</td>\n      <td>8.440064</td>\n      <td>0.998419</td>\n      <td>0.914331</td>\n      <td>1.673914</td>\n    </tr>\n    <tr>\n      <th>4</th>\n      <td>227727.0</td>\n      <td>2917.248904</td>\n      <td>1324</td>\n      <td>286</td>\n      <td>4.629371</td>\n      <td>1.662798</td>\n      <td>37.370804</td>\n      <td>8.992028</td>\n      <td>16.671171</td>\n      <td>6.294281</td>\n      <td>30.967158</td>\n      <td>45.040192</td>\n      <td>28.595326</td>\n      <td>8.641447</td>\n      <td>0.998568</td>\n      <td>0.898644</td>\n      <td>1.968081</td>\n    </tr>\n  </tbody>\n</table>\n</div>"
     },
     "metadata": {},
     "execution_count": 10
    }
   ],
   "source": [
    "X.head(5)"
   ]
  },
  {
   "cell_type": "code",
   "execution_count": 11,
   "metadata": {},
   "outputs": [
    {
     "output_type": "execute_result",
     "data": {
      "text/plain": [
       "array([0, 0, 0, 0, 0])"
      ]
     },
     "metadata": {},
     "execution_count": 11
    }
   ],
   "source": [
    "y[0:5]"
   ]
  },
  {
   "cell_type": "markdown",
   "metadata": {},
   "source": [
    "### Train test split"
   ]
  },
  {
   "cell_type": "code",
   "execution_count": 12,
   "metadata": {},
   "outputs": [],
   "source": [
    "from sklearn.model_selection import train_test_split"
   ]
  },
  {
   "cell_type": "code",
   "execution_count": 13,
   "metadata": {},
   "outputs": [],
   "source": [
    "X_train, X_test, y_train, y_test = train_test_split(X, y, test_size=0.3, random_state = 1)"
   ]
  },
  {
   "cell_type": "code",
   "execution_count": 14,
   "metadata": {},
   "outputs": [
    {
     "output_type": "execute_result",
     "data": {
      "text/plain": [
       "          area    perimeter  physiological_length  physiological_width  \\\n",
       "1263  213373.0  3430.623917                  1343                  857   \n",
       "137   799365.5  3593.763963                  1081                 1042   \n",
       "1849  882385.5  4852.651255                  1330                 1058   \n",
       "267   483893.0  5538.658397                  1208                 1021   \n",
       "186   752520.0  3465.708045                   994                 1046   \n",
       "...        ...          ...                   ...                  ...   \n",
       "1504  578096.5  3831.871610                  1397                  984   \n",
       "804   606545.5  3453.832936                  1420                  697   \n",
       "1575  614710.0  4415.433882                  1282                 1066   \n",
       "1090  832295.0  4119.628964                  1514                  990   \n",
       "1493  693895.5  4142.748809                  1529                 1041   \n",
       "\n",
       "      aspect_ratio  rectangularity  circularity      mean_r      mean_g  \\\n",
       "1263      1.567095        5.394080    55.157778   11.074737   17.294304   \n",
       "137       1.037428        1.409120    16.156739   38.576944   67.175279   \n",
       "1849      1.257089        1.594700    26.687003   49.411832   95.982348   \n",
       "267       1.183154        2.548844    63.395703   18.244701   49.497876   \n",
       "186       0.950287        1.381656    15.961213   30.045683   57.007284   \n",
       "...            ...             ...          ...         ...         ...   \n",
       "1504      1.419715        2.377887    25.399289   12.942036   52.421746   \n",
       "804       2.037303        1.631765    19.667052  182.164540  210.288909   \n",
       "1575      1.202627        2.223182    31.715860   28.553670   55.479264   \n",
       "1090      1.529293        1.800876    20.391019   36.420822   61.686713   \n",
       "1493      1.468780        2.293845    24.733361   44.361101   67.714671   \n",
       "\n",
       "          mean_b   stddev_r    stddev_g    stddev_b   contrast  correlation  \\\n",
       "1263    8.994616  33.570434   48.311718   29.207326  11.426592     0.997225   \n",
       "137    27.746684  48.222181   78.847510   37.165548  20.203071     0.997612   \n",
       "1849   16.947995  55.303775  101.872392   33.297913   3.502674     0.999362   \n",
       "267     9.948452  36.485573   85.244346   27.051578  29.457538     0.994833   \n",
       "186    23.654540  40.802893   70.784947   33.696530  19.351881     0.998087   \n",
       "...          ...        ...         ...         ...        ...          ...   \n",
       "1504    4.022720  26.294686   79.158555   19.330738  12.094588     0.998639   \n",
       "804   173.281752  98.651566   57.697587  110.491154  44.504501     0.996133   \n",
       "1575   19.891699  44.414070   80.374602   33.318763  22.305791     0.996828   \n",
       "1090   19.778061  44.470569   70.177985   28.573848  11.431320     0.998921   \n",
       "1493   20.701151  60.636476   89.476069   33.698642  40.966142     0.992700   \n",
       "\n",
       "      inverse_difference_moments   entropy  \n",
       "1263                    0.900899  1.924133  \n",
       "137                     0.662076  5.444995  \n",
       "1849                    0.743725  5.461152  \n",
       "267                     0.771400  3.946930  \n",
       "186                     0.683292  5.147662  \n",
       "...                          ...       ...  \n",
       "1504                    0.780675  4.062704  \n",
       "804                     0.710523  4.934222  \n",
       "1575                    0.728632  4.599616  \n",
       "1090                    0.694467  5.197582  \n",
       "1493                    0.678091  5.345807  \n",
       "\n",
       "[573 rows x 17 columns]"
      ],
      "text/html": "<div>\n<style scoped>\n    .dataframe tbody tr th:only-of-type {\n        vertical-align: middle;\n    }\n\n    .dataframe tbody tr th {\n        vertical-align: top;\n    }\n\n    .dataframe thead th {\n        text-align: right;\n    }\n</style>\n<table border=\"1\" class=\"dataframe\">\n  <thead>\n    <tr style=\"text-align: right;\">\n      <th></th>\n      <th>area</th>\n      <th>perimeter</th>\n      <th>physiological_length</th>\n      <th>physiological_width</th>\n      <th>aspect_ratio</th>\n      <th>rectangularity</th>\n      <th>circularity</th>\n      <th>mean_r</th>\n      <th>mean_g</th>\n      <th>mean_b</th>\n      <th>stddev_r</th>\n      <th>stddev_g</th>\n      <th>stddev_b</th>\n      <th>contrast</th>\n      <th>correlation</th>\n      <th>inverse_difference_moments</th>\n      <th>entropy</th>\n    </tr>\n  </thead>\n  <tbody>\n    <tr>\n      <th>1263</th>\n      <td>213373.0</td>\n      <td>3430.623917</td>\n      <td>1343</td>\n      <td>857</td>\n      <td>1.567095</td>\n      <td>5.394080</td>\n      <td>55.157778</td>\n      <td>11.074737</td>\n      <td>17.294304</td>\n      <td>8.994616</td>\n      <td>33.570434</td>\n      <td>48.311718</td>\n      <td>29.207326</td>\n      <td>11.426592</td>\n      <td>0.997225</td>\n      <td>0.900899</td>\n      <td>1.924133</td>\n    </tr>\n    <tr>\n      <th>137</th>\n      <td>799365.5</td>\n      <td>3593.763963</td>\n      <td>1081</td>\n      <td>1042</td>\n      <td>1.037428</td>\n      <td>1.409120</td>\n      <td>16.156739</td>\n      <td>38.576944</td>\n      <td>67.175279</td>\n      <td>27.746684</td>\n      <td>48.222181</td>\n      <td>78.847510</td>\n      <td>37.165548</td>\n      <td>20.203071</td>\n      <td>0.997612</td>\n      <td>0.662076</td>\n      <td>5.444995</td>\n    </tr>\n    <tr>\n      <th>1849</th>\n      <td>882385.5</td>\n      <td>4852.651255</td>\n      <td>1330</td>\n      <td>1058</td>\n      <td>1.257089</td>\n      <td>1.594700</td>\n      <td>26.687003</td>\n      <td>49.411832</td>\n      <td>95.982348</td>\n      <td>16.947995</td>\n      <td>55.303775</td>\n      <td>101.872392</td>\n      <td>33.297913</td>\n      <td>3.502674</td>\n      <td>0.999362</td>\n      <td>0.743725</td>\n      <td>5.461152</td>\n    </tr>\n    <tr>\n      <th>267</th>\n      <td>483893.0</td>\n      <td>5538.658397</td>\n      <td>1208</td>\n      <td>1021</td>\n      <td>1.183154</td>\n      <td>2.548844</td>\n      <td>63.395703</td>\n      <td>18.244701</td>\n      <td>49.497876</td>\n      <td>9.948452</td>\n      <td>36.485573</td>\n      <td>85.244346</td>\n      <td>27.051578</td>\n      <td>29.457538</td>\n      <td>0.994833</td>\n      <td>0.771400</td>\n      <td>3.946930</td>\n    </tr>\n    <tr>\n      <th>186</th>\n      <td>752520.0</td>\n      <td>3465.708045</td>\n      <td>994</td>\n      <td>1046</td>\n      <td>0.950287</td>\n      <td>1.381656</td>\n      <td>15.961213</td>\n      <td>30.045683</td>\n      <td>57.007284</td>\n      <td>23.654540</td>\n      <td>40.802893</td>\n      <td>70.784947</td>\n      <td>33.696530</td>\n      <td>19.351881</td>\n      <td>0.998087</td>\n      <td>0.683292</td>\n      <td>5.147662</td>\n    </tr>\n    <tr>\n      <th>...</th>\n      <td>...</td>\n      <td>...</td>\n      <td>...</td>\n      <td>...</td>\n      <td>...</td>\n      <td>...</td>\n      <td>...</td>\n      <td>...</td>\n      <td>...</td>\n      <td>...</td>\n      <td>...</td>\n      <td>...</td>\n      <td>...</td>\n      <td>...</td>\n      <td>...</td>\n      <td>...</td>\n      <td>...</td>\n    </tr>\n    <tr>\n      <th>1504</th>\n      <td>578096.5</td>\n      <td>3831.871610</td>\n      <td>1397</td>\n      <td>984</td>\n      <td>1.419715</td>\n      <td>2.377887</td>\n      <td>25.399289</td>\n      <td>12.942036</td>\n      <td>52.421746</td>\n      <td>4.022720</td>\n      <td>26.294686</td>\n      <td>79.158555</td>\n      <td>19.330738</td>\n      <td>12.094588</td>\n      <td>0.998639</td>\n      <td>0.780675</td>\n      <td>4.062704</td>\n    </tr>\n    <tr>\n      <th>804</th>\n      <td>606545.5</td>\n      <td>3453.832936</td>\n      <td>1420</td>\n      <td>697</td>\n      <td>2.037303</td>\n      <td>1.631765</td>\n      <td>19.667052</td>\n      <td>182.164540</td>\n      <td>210.288909</td>\n      <td>173.281752</td>\n      <td>98.651566</td>\n      <td>57.697587</td>\n      <td>110.491154</td>\n      <td>44.504501</td>\n      <td>0.996133</td>\n      <td>0.710523</td>\n      <td>4.934222</td>\n    </tr>\n    <tr>\n      <th>1575</th>\n      <td>614710.0</td>\n      <td>4415.433882</td>\n      <td>1282</td>\n      <td>1066</td>\n      <td>1.202627</td>\n      <td>2.223182</td>\n      <td>31.715860</td>\n      <td>28.553670</td>\n      <td>55.479264</td>\n      <td>19.891699</td>\n      <td>44.414070</td>\n      <td>80.374602</td>\n      <td>33.318763</td>\n      <td>22.305791</td>\n      <td>0.996828</td>\n      <td>0.728632</td>\n      <td>4.599616</td>\n    </tr>\n    <tr>\n      <th>1090</th>\n      <td>832295.0</td>\n      <td>4119.628964</td>\n      <td>1514</td>\n      <td>990</td>\n      <td>1.529293</td>\n      <td>1.800876</td>\n      <td>20.391019</td>\n      <td>36.420822</td>\n      <td>61.686713</td>\n      <td>19.778061</td>\n      <td>44.470569</td>\n      <td>70.177985</td>\n      <td>28.573848</td>\n      <td>11.431320</td>\n      <td>0.998921</td>\n      <td>0.694467</td>\n      <td>5.197582</td>\n    </tr>\n    <tr>\n      <th>1493</th>\n      <td>693895.5</td>\n      <td>4142.748809</td>\n      <td>1529</td>\n      <td>1041</td>\n      <td>1.468780</td>\n      <td>2.293845</td>\n      <td>24.733361</td>\n      <td>44.361101</td>\n      <td>67.714671</td>\n      <td>20.701151</td>\n      <td>60.636476</td>\n      <td>89.476069</td>\n      <td>33.698642</td>\n      <td>40.966142</td>\n      <td>0.992700</td>\n      <td>0.678091</td>\n      <td>5.345807</td>\n    </tr>\n  </tbody>\n</table>\n<p>573 rows × 17 columns</p>\n</div>"
     },
     "metadata": {},
     "execution_count": 14
    }
   ],
   "source": [
    "type(X_train)\n",
    "X_test"
   ]
  },
  {
   "cell_type": "code",
   "execution_count": 15,
   "metadata": {},
   "outputs": [
    {
     "output_type": "execute_result",
     "data": {
      "text/plain": [
       "array([ 4,  9,  3, 15, 27])"
      ]
     },
     "metadata": {},
     "execution_count": 15
    }
   ],
   "source": [
    "y_train[0:5]"
   ]
  },
  {
   "cell_type": "markdown",
   "metadata": {},
   "source": [
    "### Feature Scaling"
   ]
  },
  {
   "cell_type": "code",
   "execution_count": 16,
   "metadata": {},
   "outputs": [],
   "source": [
    "from sklearn.preprocessing import StandardScaler"
   ]
  },
  {
   "cell_type": "code",
   "execution_count": 17,
   "metadata": {},
   "outputs": [],
   "source": [
    "sc_X = StandardScaler()\n",
    "X_train = sc_X.fit_transform(X_train)\n",
    "X_test = sc_X.transform(X_test)"
   ]
  },
  {
   "cell_type": "code",
   "execution_count": 18,
   "metadata": {},
   "outputs": [
    {
     "output_type": "execute_result",
     "data": {
      "text/plain": [
       "array([[-1.227045  , -2.01022875, -1.87583961, -2.05351508,  1.00395209,\n",
       "        -0.3817777 , -0.38488482, -0.82749007, -1.0497825 , -0.64372502,\n",
       "        -1.79812462, -2.0797401 , -1.10455749, -0.59323579,  0.97553192,\n",
       "         1.39941703, -1.4879613 ],\n",
       "       [ 0.03554163,  0.13170763,  0.56579175, -0.83624904,  0.93118163,\n",
       "        -0.29951384, -0.23378604, -0.22750802,  0.14018208, -0.46542913,\n",
       "        -0.0974349 ,  1.94598994, -0.72289959, -0.12253433, -1.33728152,\n",
       "        -0.14098287,  0.03271052]])"
      ]
     },
     "metadata": {},
     "execution_count": 18
    }
   ],
   "source": [
    "X_train[0:2]"
   ]
  },
  {
   "cell_type": "code",
   "execution_count": 19,
   "metadata": {},
   "outputs": [
    {
     "output_type": "execute_result",
     "data": {
      "text/plain": [
       "array([4, 9])"
      ]
     },
     "metadata": {},
     "execution_count": 19
    }
   ],
   "source": [
    "y_train[0:2]"
   ]
  },
  {
   "cell_type": "markdown",
   "metadata": {},
   "source": [
    "### Applying SVM classifier model"
   ]
  },
  {
   "cell_type": "code",
   "execution_count": 20,
   "metadata": {},
   "outputs": [],
   "source": [
    "from sklearn import svm"
   ]
  },
  {
   "cell_type": "code",
   "execution_count": 21,
   "metadata": {},
   "outputs": [
    {
     "output_type": "execute_result",
     "data": {
      "text/plain": [
       "SVC()"
      ]
     },
     "metadata": {},
     "execution_count": 21
    }
   ],
   "source": [
    "clf = svm.SVC()\n",
    "clf.fit(X_train,y_train)\n",
    "# Kernel = Radial basis function\n",
    "# help(svm.SVC.fit)"
   ]
  },
  {
   "cell_type": "code",
   "execution_count": 22,
   "metadata": {},
   "outputs": [],
   "source": [
    "y_pred = clf.predict(X_test)"
   ]
  },
  {
   "cell_type": "code",
   "execution_count": 23,
   "metadata": {},
   "outputs": [],
   "source": [
    "from sklearn import metrics"
   ]
  },
  {
   "cell_type": "code",
   "execution_count": 24,
   "metadata": {},
   "outputs": [
    {
     "output_type": "execute_result",
     "data": {
      "text/plain": [
       "0.7905759162303665"
      ]
     },
     "metadata": {},
     "execution_count": 24
    }
   ],
   "source": [
    "metrics.accuracy_score(y_test, y_pred)"
   ]
  },
  {
   "cell_type": "code",
   "execution_count": 25,
   "metadata": {},
   "outputs": [
    {
     "output_type": "stream",
     "name": "stdout",
     "text": [
      "              precision    recall  f1-score   support\n\n           0       0.56      0.45      0.50        20\n           1       0.81      0.77      0.79        22\n           2       0.83      1.00      0.91        24\n           3       0.89      1.00      0.94        16\n           4       1.00      0.94      0.97        18\n           5       0.92      1.00      0.96        22\n           6       0.70      0.94      0.80        17\n           7       0.87      0.76      0.81        17\n           8       0.44      0.62      0.52        13\n           9       0.85      1.00      0.92        11\n          10       0.73      0.55      0.63        20\n          11       0.87      0.87      0.87        15\n          12       0.42      0.73      0.54        15\n          13       0.88      0.83      0.86        18\n          14       0.82      0.64      0.72        22\n          15       0.50      0.27      0.35        15\n          16       1.00      1.00      1.00        21\n          17       0.80      1.00      0.89        20\n          18       0.88      0.82      0.85        17\n          19       0.89      1.00      0.94        17\n          20       0.82      0.78      0.80        23\n          21       0.38      0.60      0.46        10\n          22       0.93      0.87      0.90        15\n          23       0.68      0.94      0.79        18\n          24       1.00      0.43      0.60        21\n          25       0.93      0.61      0.74        23\n          26       0.93      0.87      0.90        15\n          27       0.79      0.83      0.81        18\n          28       0.71      0.79      0.75        19\n          29       0.92      0.75      0.83        16\n          30       0.83      0.83      0.83        12\n          31       0.90      0.78      0.84        23\n\n    accuracy                           0.79       573\n   macro avg       0.80      0.79      0.78       573\nweighted avg       0.81      0.79      0.79       573\n\n"
     ]
    }
   ],
   "source": [
    "print(metrics.classification_report(y_test, y_pred))"
   ]
  },
  {
   "cell_type": "markdown",
   "metadata": {},
   "source": [
    "### Performing parameter tuning of the model"
   ]
  },
  {
   "cell_type": "code",
   "execution_count": 26,
   "metadata": {},
   "outputs": [],
   "source": [
    "from sklearn.model_selection import GridSearchCV"
   ]
  },
  {
   "cell_type": "code",
   "execution_count": 27,
   "metadata": {},
   "outputs": [],
   "source": [
    "parameters = [{'kernel': ['rbf'],\n",
    "               'gamma': [1e-4, 1e-3, 0.01, 0.1, 0.2, 0.5],\n",
    "               'C': [1, 10, 100, 1000]},\n",
    "              {'kernel': ['linear'], 'C': [1, 10, 100, 1000]}\n",
    "             ]"
   ]
  },
  {
   "cell_type": "code",
   "execution_count": 28,
   "metadata": {},
   "outputs": [
    {
     "output_type": "execute_result",
     "data": {
      "text/plain": [
       "GridSearchCV(cv=5, estimator=SVC(),\n",
       "             param_grid=[{'C': [1, 10, 100, 1000],\n",
       "                          'gamma': [0.0001, 0.001, 0.01, 0.1, 0.2, 0.5],\n",
       "                          'kernel': ['rbf']},\n",
       "                         {'C': [1, 10, 100, 1000], 'kernel': ['linear']}])"
      ]
     },
     "metadata": {},
     "execution_count": 28
    }
   ],
   "source": [
    "svm_clf = GridSearchCV(svm.SVC(decision_function_shape='ovr'), parameters, cv=5)\n",
    "svm_clf.fit(X_train, y_train)"
   ]
  },
  {
   "cell_type": "code",
   "execution_count": 29,
   "metadata": {},
   "outputs": [
    {
     "output_type": "execute_result",
     "data": {
      "text/plain": [
       "{'C': 1000, 'gamma': 0.01, 'kernel': 'rbf'}"
      ]
     },
     "metadata": {},
     "execution_count": 29
    }
   ],
   "source": [
    "svm_clf.best_params_"
   ]
  },
  {
   "cell_type": "code",
   "execution_count": 30,
   "metadata": {},
   "outputs": [
    {
     "output_type": "stream",
     "name": "stdout",
     "text": [
      "0.066 (+/-0.040) for {'C': 1, 'gamma': 0.0001, 'kernel': 'rbf'}\n0.211 (+/-0.021) for {'C': 1, 'gamma': 0.001, 'kernel': 'rbf'}\n0.582 (+/-0.010) for {'C': 1, 'gamma': 0.01, 'kernel': 'rbf'}\n0.825 (+/-0.042) for {'C': 1, 'gamma': 0.1, 'kernel': 'rbf'}\n0.839 (+/-0.048) for {'C': 1, 'gamma': 0.2, 'kernel': 'rbf'}\n0.849 (+/-0.060) for {'C': 1, 'gamma': 0.5, 'kernel': 'rbf'}\n0.211 (+/-0.021) for {'C': 10, 'gamma': 0.0001, 'kernel': 'rbf'}\n0.588 (+/-0.007) for {'C': 10, 'gamma': 0.001, 'kernel': 'rbf'}\n0.830 (+/-0.051) for {'C': 10, 'gamma': 0.01, 'kernel': 'rbf'}\n0.882 (+/-0.036) for {'C': 10, 'gamma': 0.1, 'kernel': 'rbf'}\n0.878 (+/-0.040) for {'C': 10, 'gamma': 0.2, 'kernel': 'rbf'}\n0.856 (+/-0.021) for {'C': 10, 'gamma': 0.5, 'kernel': 'rbf'}\n0.590 (+/-0.010) for {'C': 100, 'gamma': 0.0001, 'kernel': 'rbf'}\n0.814 (+/-0.038) for {'C': 100, 'gamma': 0.001, 'kernel': 'rbf'}\n0.892 (+/-0.042) for {'C': 100, 'gamma': 0.01, 'kernel': 'rbf'}\n0.885 (+/-0.057) for {'C': 100, 'gamma': 0.1, 'kernel': 'rbf'}\n0.874 (+/-0.049) for {'C': 100, 'gamma': 0.2, 'kernel': 'rbf'}\n0.855 (+/-0.039) for {'C': 100, 'gamma': 0.5, 'kernel': 'rbf'}\n0.813 (+/-0.037) for {'C': 1000, 'gamma': 0.0001, 'kernel': 'rbf'}\n0.885 (+/-0.052) for {'C': 1000, 'gamma': 0.001, 'kernel': 'rbf'}\n0.893 (+/-0.046) for {'C': 1000, 'gamma': 0.01, 'kernel': 'rbf'}\n0.885 (+/-0.048) for {'C': 1000, 'gamma': 0.1, 'kernel': 'rbf'}\n0.874 (+/-0.046) for {'C': 1000, 'gamma': 0.2, 'kernel': 'rbf'}\n0.853 (+/-0.037) for {'C': 1000, 'gamma': 0.5, 'kernel': 'rbf'}\n0.870 (+/-0.050) for {'C': 1, 'kernel': 'linear'}\n0.880 (+/-0.051) for {'C': 10, 'kernel': 'linear'}\n0.887 (+/-0.056) for {'C': 100, 'kernel': 'linear'}\n0.891 (+/-0.055) for {'C': 1000, 'kernel': 'linear'}\n"
     ]
    }
   ],
   "source": [
    "means = svm_clf.cv_results_['mean_test_score']\n",
    "stds = svm_clf.cv_results_['std_test_score']\n",
    "for mean, std, params in zip(means, stds, svm_clf.cv_results_['params']):\n",
    "    print(\"%0.3f (+/-%0.03f) for %r\" % (mean, std * 2, params))"
   ]
  },
  {
   "cell_type": "code",
   "execution_count": 31,
   "metadata": {},
   "outputs": [],
   "source": [
    "y_pred_svm = svm_clf.predict(X_test)"
   ]
  },
  {
   "cell_type": "code",
   "execution_count": 32,
   "metadata": {},
   "outputs": [
    {
     "output_type": "execute_result",
     "data": {
      "text/plain": [
       "0.900523560209424"
      ]
     },
     "metadata": {},
     "execution_count": 32
    }
   ],
   "source": [
    "metrics.accuracy_score(y_test, y_pred_svm)"
   ]
  },
  {
   "cell_type": "code",
   "execution_count": 33,
   "metadata": {},
   "outputs": [
    {
     "output_type": "stream",
     "name": "stdout",
     "text": [
      "              precision    recall  f1-score   support\n\n           0       0.65      0.65      0.65        20\n           1       0.95      0.95      0.95        22\n           2       0.96      1.00      0.98        24\n           3       0.94      0.94      0.94        16\n           4       0.90      1.00      0.95        18\n           5       0.92      1.00      0.96        22\n           6       0.94      1.00      0.97        17\n           7       0.89      1.00      0.94        17\n           8       0.73      0.85      0.79        13\n           9       1.00      1.00      1.00        11\n          10       0.89      0.85      0.87        20\n          11       0.88      0.93      0.90        15\n          12       0.87      0.87      0.87        15\n          13       0.81      0.94      0.87        18\n          14       0.87      0.91      0.89        22\n          15       0.74      0.93      0.82        15\n          16       1.00      1.00      1.00        21\n          17       0.95      1.00      0.98        20\n          18       0.89      0.94      0.91        17\n          19       0.94      0.88      0.91        17\n          20       0.90      0.78      0.84        23\n          21       0.89      0.80      0.84        10\n          22       1.00      0.93      0.97        15\n          23       0.82      1.00      0.90        18\n          24       0.87      0.62      0.72        21\n          25       0.95      0.83      0.88        23\n          26       1.00      0.87      0.93        15\n          27       1.00      1.00      1.00        18\n          28       0.94      0.79      0.86        19\n          29       1.00      0.94      0.97        16\n          30       0.92      1.00      0.96        12\n          31       0.89      0.74      0.81        23\n\n    accuracy                           0.90       573\n   macro avg       0.90      0.90      0.90       573\nweighted avg       0.90      0.90      0.90       573\n\n"
     ]
    }
   ],
   "source": [
    "print(metrics.classification_report(y_test, y_pred_svm))"
   ]
  },
  {
   "cell_type": "markdown",
   "metadata": {},
   "source": [
    "### Dimensionality Reduction using PCA"
   ]
  },
  {
   "cell_type": "code",
   "execution_count": 34,
   "metadata": {},
   "outputs": [],
   "source": [
    "from sklearn.decomposition import PCA"
   ]
  },
  {
   "cell_type": "code",
   "execution_count": 35,
   "metadata": {},
   "outputs": [],
   "source": [
    "pca = PCA()"
   ]
  },
  {
   "cell_type": "code",
   "execution_count": 36,
   "metadata": {},
   "outputs": [
    {
     "output_type": "execute_result",
     "data": {
      "text/plain": [
       "PCA()"
      ]
     },
     "metadata": {},
     "execution_count": 36
    }
   ],
   "source": [
    "pca.fit(X)"
   ]
  },
  {
   "cell_type": "code",
   "execution_count": 37,
   "metadata": {},
   "outputs": [
    {
     "output_type": "execute_result",
     "data": {
      "text/plain": [
       "array([9.99992897e-01, 6.41435228e-06, 3.92823847e-07, 2.08041234e-07,\n",
       "       6.15522716e-08, 1.38782080e-08, 8.94929401e-09, 2.51991531e-09,\n",
       "       8.66434382e-10, 2.10140133e-10, 1.07067158e-10, 1.32410137e-11,\n",
       "       2.22567453e-12, 1.41983252e-12, 5.16456383e-13, 3.39149322e-15,\n",
       "       1.00670170e-17])"
      ]
     },
     "metadata": {},
     "execution_count": 37
    }
   ],
   "source": [
    "var= pca.explained_variance_ratio_\n",
    "var"
   ]
  },
  {
   "cell_type": "code",
   "execution_count": 38,
   "metadata": {},
   "outputs": [],
   "source": [
    "import matplotlib.pyplot as plt\n",
    "%matplotlib inline"
   ]
  },
  {
   "cell_type": "code",
   "execution_count": 39,
   "metadata": {},
   "outputs": [
    {
     "output_type": "execute_result",
     "data": {
      "text/plain": [
       "[<matplotlib.lines.Line2D at 0x20a5a40d880>]"
      ]
     },
     "metadata": {},
     "execution_count": 39
    },
    {
     "output_type": "display_data",
     "data": {
      "text/plain": "<Figure size 432x288 with 1 Axes>",
      "image/svg+xml": "<?xml version=\"1.0\" encoding=\"utf-8\" standalone=\"no\"?>\r\n<!DOCTYPE svg PUBLIC \"-//W3C//DTD SVG 1.1//EN\"\r\n  \"http://www.w3.org/Graphics/SVG/1.1/DTD/svg11.dtd\">\r\n<!-- Created with matplotlib (https://matplotlib.org/) -->\r\n<svg height=\"248.518125pt\" version=\"1.1\" viewBox=\"0 0 375.2875 248.518125\" width=\"375.2875pt\" xmlns=\"http://www.w3.org/2000/svg\" xmlns:xlink=\"http://www.w3.org/1999/xlink\">\r\n <metadata>\r\n  <rdf:RDF xmlns:cc=\"http://creativecommons.org/ns#\" xmlns:dc=\"http://purl.org/dc/elements/1.1/\" xmlns:rdf=\"http://www.w3.org/1999/02/22-rdf-syntax-ns#\">\r\n   <cc:Work>\r\n    <dc:type rdf:resource=\"http://purl.org/dc/dcmitype/StillImage\"/>\r\n    <dc:date>2021-05-05T19:56:39.940760</dc:date>\r\n    <dc:format>image/svg+xml</dc:format>\r\n    <dc:creator>\r\n     <cc:Agent>\r\n      <dc:title>Matplotlib v3.3.2, https://matplotlib.org/</dc:title>\r\n     </cc:Agent>\r\n    </dc:creator>\r\n   </cc:Work>\r\n  </rdf:RDF>\r\n </metadata>\r\n <defs>\r\n  <style type=\"text/css\">*{stroke-linecap:butt;stroke-linejoin:round;}</style>\r\n </defs>\r\n <g id=\"figure_1\">\r\n  <g id=\"patch_1\">\r\n   <path d=\"M 0 248.518125 \r\nL 375.2875 248.518125 \r\nL 375.2875 0 \r\nL 0 0 \r\nz\r\n\" style=\"fill:none;\"/>\r\n  </g>\r\n  <g id=\"axes_1\">\r\n   <g id=\"patch_2\">\r\n    <path d=\"M 33.2875 224.64 \r\nL 368.0875 224.64 \r\nL 368.0875 7.2 \r\nL 33.2875 7.2 \r\nz\r\n\" style=\"fill:#ffffff;\"/>\r\n   </g>\r\n   <g id=\"matplotlib.axis_1\">\r\n    <g id=\"xtick_1\">\r\n     <g id=\"line2d_1\">\r\n      <defs>\r\n       <path d=\"M 0 0 \r\nL 0 3.5 \r\n\" id=\"m845876d878\" style=\"stroke:#000000;stroke-width:0.8;\"/>\r\n      </defs>\r\n      <g>\r\n       <use style=\"stroke:#000000;stroke-width:0.8;\" x=\"48.505682\" xlink:href=\"#m845876d878\" y=\"224.64\"/>\r\n      </g>\r\n     </g>\r\n     <g id=\"text_1\">\r\n      <!-- 0 -->\r\n      <g transform=\"translate(45.324432 239.238437)scale(0.1 -0.1)\">\r\n       <defs>\r\n        <path d=\"M 31.78125 66.40625 \r\nQ 24.171875 66.40625 20.328125 58.90625 \r\nQ 16.5 51.421875 16.5 36.375 \r\nQ 16.5 21.390625 20.328125 13.890625 \r\nQ 24.171875 6.390625 31.78125 6.390625 \r\nQ 39.453125 6.390625 43.28125 13.890625 \r\nQ 47.125 21.390625 47.125 36.375 \r\nQ 47.125 51.421875 43.28125 58.90625 \r\nQ 39.453125 66.40625 31.78125 66.40625 \r\nz\r\nM 31.78125 74.21875 \r\nQ 44.046875 74.21875 50.515625 64.515625 \r\nQ 56.984375 54.828125 56.984375 36.375 \r\nQ 56.984375 17.96875 50.515625 8.265625 \r\nQ 44.046875 -1.421875 31.78125 -1.421875 \r\nQ 19.53125 -1.421875 13.0625 8.265625 \r\nQ 6.59375 17.96875 6.59375 36.375 \r\nQ 6.59375 54.828125 13.0625 64.515625 \r\nQ 19.53125 74.21875 31.78125 74.21875 \r\nz\r\n\" id=\"DejaVuSans-48\"/>\r\n       </defs>\r\n       <use xlink:href=\"#DejaVuSans-48\"/>\r\n      </g>\r\n     </g>\r\n    </g>\r\n    <g id=\"xtick_2\">\r\n     <g id=\"line2d_2\">\r\n      <g>\r\n       <use style=\"stroke:#000000;stroke-width:0.8;\" x=\"86.551136\" xlink:href=\"#m845876d878\" y=\"224.64\"/>\r\n      </g>\r\n     </g>\r\n     <g id=\"text_2\">\r\n      <!-- 2 -->\r\n      <g transform=\"translate(83.369886 239.238437)scale(0.1 -0.1)\">\r\n       <defs>\r\n        <path d=\"M 19.1875 8.296875 \r\nL 53.609375 8.296875 \r\nL 53.609375 0 \r\nL 7.328125 0 \r\nL 7.328125 8.296875 \r\nQ 12.9375 14.109375 22.625 23.890625 \r\nQ 32.328125 33.6875 34.8125 36.53125 \r\nQ 39.546875 41.84375 41.421875 45.53125 \r\nQ 43.3125 49.21875 43.3125 52.78125 \r\nQ 43.3125 58.59375 39.234375 62.25 \r\nQ 35.15625 65.921875 28.609375 65.921875 \r\nQ 23.96875 65.921875 18.8125 64.3125 \r\nQ 13.671875 62.703125 7.8125 59.421875 \r\nL 7.8125 69.390625 \r\nQ 13.765625 71.78125 18.9375 73 \r\nQ 24.125 74.21875 28.421875 74.21875 \r\nQ 39.75 74.21875 46.484375 68.546875 \r\nQ 53.21875 62.890625 53.21875 53.421875 \r\nQ 53.21875 48.921875 51.53125 44.890625 \r\nQ 49.859375 40.875 45.40625 35.40625 \r\nQ 44.1875 33.984375 37.640625 27.21875 \r\nQ 31.109375 20.453125 19.1875 8.296875 \r\nz\r\n\" id=\"DejaVuSans-50\"/>\r\n       </defs>\r\n       <use xlink:href=\"#DejaVuSans-50\"/>\r\n      </g>\r\n     </g>\r\n    </g>\r\n    <g id=\"xtick_3\">\r\n     <g id=\"line2d_3\">\r\n      <g>\r\n       <use style=\"stroke:#000000;stroke-width:0.8;\" x=\"124.596591\" xlink:href=\"#m845876d878\" y=\"224.64\"/>\r\n      </g>\r\n     </g>\r\n     <g id=\"text_3\">\r\n      <!-- 4 -->\r\n      <g transform=\"translate(121.415341 239.238437)scale(0.1 -0.1)\">\r\n       <defs>\r\n        <path d=\"M 37.796875 64.3125 \r\nL 12.890625 25.390625 \r\nL 37.796875 25.390625 \r\nz\r\nM 35.203125 72.90625 \r\nL 47.609375 72.90625 \r\nL 47.609375 25.390625 \r\nL 58.015625 25.390625 \r\nL 58.015625 17.1875 \r\nL 47.609375 17.1875 \r\nL 47.609375 0 \r\nL 37.796875 0 \r\nL 37.796875 17.1875 \r\nL 4.890625 17.1875 \r\nL 4.890625 26.703125 \r\nz\r\n\" id=\"DejaVuSans-52\"/>\r\n       </defs>\r\n       <use xlink:href=\"#DejaVuSans-52\"/>\r\n      </g>\r\n     </g>\r\n    </g>\r\n    <g id=\"xtick_4\">\r\n     <g id=\"line2d_4\">\r\n      <g>\r\n       <use style=\"stroke:#000000;stroke-width:0.8;\" x=\"162.642045\" xlink:href=\"#m845876d878\" y=\"224.64\"/>\r\n      </g>\r\n     </g>\r\n     <g id=\"text_4\">\r\n      <!-- 6 -->\r\n      <g transform=\"translate(159.460795 239.238437)scale(0.1 -0.1)\">\r\n       <defs>\r\n        <path d=\"M 33.015625 40.375 \r\nQ 26.375 40.375 22.484375 35.828125 \r\nQ 18.609375 31.296875 18.609375 23.390625 \r\nQ 18.609375 15.53125 22.484375 10.953125 \r\nQ 26.375 6.390625 33.015625 6.390625 \r\nQ 39.65625 6.390625 43.53125 10.953125 \r\nQ 47.40625 15.53125 47.40625 23.390625 \r\nQ 47.40625 31.296875 43.53125 35.828125 \r\nQ 39.65625 40.375 33.015625 40.375 \r\nz\r\nM 52.59375 71.296875 \r\nL 52.59375 62.3125 \r\nQ 48.875 64.0625 45.09375 64.984375 \r\nQ 41.3125 65.921875 37.59375 65.921875 \r\nQ 27.828125 65.921875 22.671875 59.328125 \r\nQ 17.53125 52.734375 16.796875 39.40625 \r\nQ 19.671875 43.65625 24.015625 45.921875 \r\nQ 28.375 48.1875 33.59375 48.1875 \r\nQ 44.578125 48.1875 50.953125 41.515625 \r\nQ 57.328125 34.859375 57.328125 23.390625 \r\nQ 57.328125 12.15625 50.6875 5.359375 \r\nQ 44.046875 -1.421875 33.015625 -1.421875 \r\nQ 20.359375 -1.421875 13.671875 8.265625 \r\nQ 6.984375 17.96875 6.984375 36.375 \r\nQ 6.984375 53.65625 15.1875 63.9375 \r\nQ 23.390625 74.21875 37.203125 74.21875 \r\nQ 40.921875 74.21875 44.703125 73.484375 \r\nQ 48.484375 72.75 52.59375 71.296875 \r\nz\r\n\" id=\"DejaVuSans-54\"/>\r\n       </defs>\r\n       <use xlink:href=\"#DejaVuSans-54\"/>\r\n      </g>\r\n     </g>\r\n    </g>\r\n    <g id=\"xtick_5\">\r\n     <g id=\"line2d_5\">\r\n      <g>\r\n       <use style=\"stroke:#000000;stroke-width:0.8;\" x=\"200.6875\" xlink:href=\"#m845876d878\" y=\"224.64\"/>\r\n      </g>\r\n     </g>\r\n     <g id=\"text_5\">\r\n      <!-- 8 -->\r\n      <g transform=\"translate(197.50625 239.238437)scale(0.1 -0.1)\">\r\n       <defs>\r\n        <path d=\"M 31.78125 34.625 \r\nQ 24.75 34.625 20.71875 30.859375 \r\nQ 16.703125 27.09375 16.703125 20.515625 \r\nQ 16.703125 13.921875 20.71875 10.15625 \r\nQ 24.75 6.390625 31.78125 6.390625 \r\nQ 38.8125 6.390625 42.859375 10.171875 \r\nQ 46.921875 13.96875 46.921875 20.515625 \r\nQ 46.921875 27.09375 42.890625 30.859375 \r\nQ 38.875 34.625 31.78125 34.625 \r\nz\r\nM 21.921875 38.8125 \r\nQ 15.578125 40.375 12.03125 44.71875 \r\nQ 8.5 49.078125 8.5 55.328125 \r\nQ 8.5 64.0625 14.71875 69.140625 \r\nQ 20.953125 74.21875 31.78125 74.21875 \r\nQ 42.671875 74.21875 48.875 69.140625 \r\nQ 55.078125 64.0625 55.078125 55.328125 \r\nQ 55.078125 49.078125 51.53125 44.71875 \r\nQ 48 40.375 41.703125 38.8125 \r\nQ 48.828125 37.15625 52.796875 32.3125 \r\nQ 56.78125 27.484375 56.78125 20.515625 \r\nQ 56.78125 9.90625 50.3125 4.234375 \r\nQ 43.84375 -1.421875 31.78125 -1.421875 \r\nQ 19.734375 -1.421875 13.25 4.234375 \r\nQ 6.78125 9.90625 6.78125 20.515625 \r\nQ 6.78125 27.484375 10.78125 32.3125 \r\nQ 14.796875 37.15625 21.921875 38.8125 \r\nz\r\nM 18.3125 54.390625 \r\nQ 18.3125 48.734375 21.84375 45.5625 \r\nQ 25.390625 42.390625 31.78125 42.390625 \r\nQ 38.140625 42.390625 41.71875 45.5625 \r\nQ 45.3125 48.734375 45.3125 54.390625 \r\nQ 45.3125 60.0625 41.71875 63.234375 \r\nQ 38.140625 66.40625 31.78125 66.40625 \r\nQ 25.390625 66.40625 21.84375 63.234375 \r\nQ 18.3125 60.0625 18.3125 54.390625 \r\nz\r\n\" id=\"DejaVuSans-56\"/>\r\n       </defs>\r\n       <use xlink:href=\"#DejaVuSans-56\"/>\r\n      </g>\r\n     </g>\r\n    </g>\r\n    <g id=\"xtick_6\">\r\n     <g id=\"line2d_6\">\r\n      <g>\r\n       <use style=\"stroke:#000000;stroke-width:0.8;\" x=\"238.732955\" xlink:href=\"#m845876d878\" y=\"224.64\"/>\r\n      </g>\r\n     </g>\r\n     <g id=\"text_6\">\r\n      <!-- 10 -->\r\n      <g transform=\"translate(232.370455 239.238437)scale(0.1 -0.1)\">\r\n       <defs>\r\n        <path d=\"M 12.40625 8.296875 \r\nL 28.515625 8.296875 \r\nL 28.515625 63.921875 \r\nL 10.984375 60.40625 \r\nL 10.984375 69.390625 \r\nL 28.421875 72.90625 \r\nL 38.28125 72.90625 \r\nL 38.28125 8.296875 \r\nL 54.390625 8.296875 \r\nL 54.390625 0 \r\nL 12.40625 0 \r\nz\r\n\" id=\"DejaVuSans-49\"/>\r\n       </defs>\r\n       <use xlink:href=\"#DejaVuSans-49\"/>\r\n       <use x=\"63.623047\" xlink:href=\"#DejaVuSans-48\"/>\r\n      </g>\r\n     </g>\r\n    </g>\r\n    <g id=\"xtick_7\">\r\n     <g id=\"line2d_7\">\r\n      <g>\r\n       <use style=\"stroke:#000000;stroke-width:0.8;\" x=\"276.778409\" xlink:href=\"#m845876d878\" y=\"224.64\"/>\r\n      </g>\r\n     </g>\r\n     <g id=\"text_7\">\r\n      <!-- 12 -->\r\n      <g transform=\"translate(270.415909 239.238437)scale(0.1 -0.1)\">\r\n       <use xlink:href=\"#DejaVuSans-49\"/>\r\n       <use x=\"63.623047\" xlink:href=\"#DejaVuSans-50\"/>\r\n      </g>\r\n     </g>\r\n    </g>\r\n    <g id=\"xtick_8\">\r\n     <g id=\"line2d_8\">\r\n      <g>\r\n       <use style=\"stroke:#000000;stroke-width:0.8;\" x=\"314.823864\" xlink:href=\"#m845876d878\" y=\"224.64\"/>\r\n      </g>\r\n     </g>\r\n     <g id=\"text_8\">\r\n      <!-- 14 -->\r\n      <g transform=\"translate(308.461364 239.238437)scale(0.1 -0.1)\">\r\n       <use xlink:href=\"#DejaVuSans-49\"/>\r\n       <use x=\"63.623047\" xlink:href=\"#DejaVuSans-52\"/>\r\n      </g>\r\n     </g>\r\n    </g>\r\n    <g id=\"xtick_9\">\r\n     <g id=\"line2d_9\">\r\n      <g>\r\n       <use style=\"stroke:#000000;stroke-width:0.8;\" x=\"352.869318\" xlink:href=\"#m845876d878\" y=\"224.64\"/>\r\n      </g>\r\n     </g>\r\n     <g id=\"text_9\">\r\n      <!-- 16 -->\r\n      <g transform=\"translate(346.506818 239.238437)scale(0.1 -0.1)\">\r\n       <use xlink:href=\"#DejaVuSans-49\"/>\r\n       <use x=\"63.623047\" xlink:href=\"#DejaVuSans-54\"/>\r\n      </g>\r\n     </g>\r\n    </g>\r\n   </g>\r\n   <g id=\"matplotlib.axis_2\">\r\n    <g id=\"ytick_1\">\r\n     <g id=\"line2d_10\">\r\n      <defs>\r\n       <path d=\"M 0 0 \r\nL -3.5 0 \r\n\" id=\"m94febb6664\" style=\"stroke:#000000;stroke-width:0.8;\"/>\r\n      </defs>\r\n      <g>\r\n       <use style=\"stroke:#000000;stroke-width:0.8;\" x=\"33.2875\" xlink:href=\"#m94febb6664\" y=\"194.989091\"/>\r\n      </g>\r\n     </g>\r\n     <g id=\"text_10\">\r\n      <!-- 96 -->\r\n      <g transform=\"translate(13.5625 198.78831)scale(0.1 -0.1)\">\r\n       <defs>\r\n        <path d=\"M 10.984375 1.515625 \r\nL 10.984375 10.5 \r\nQ 14.703125 8.734375 18.5 7.8125 \r\nQ 22.3125 6.890625 25.984375 6.890625 \r\nQ 35.75 6.890625 40.890625 13.453125 \r\nQ 46.046875 20.015625 46.78125 33.40625 \r\nQ 43.953125 29.203125 39.59375 26.953125 \r\nQ 35.25 24.703125 29.984375 24.703125 \r\nQ 19.046875 24.703125 12.671875 31.3125 \r\nQ 6.296875 37.9375 6.296875 49.421875 \r\nQ 6.296875 60.640625 12.9375 67.421875 \r\nQ 19.578125 74.21875 30.609375 74.21875 \r\nQ 43.265625 74.21875 49.921875 64.515625 \r\nQ 56.59375 54.828125 56.59375 36.375 \r\nQ 56.59375 19.140625 48.40625 8.859375 \r\nQ 40.234375 -1.421875 26.421875 -1.421875 \r\nQ 22.703125 -1.421875 18.890625 -0.6875 \r\nQ 15.09375 0.046875 10.984375 1.515625 \r\nz\r\nM 30.609375 32.421875 \r\nQ 37.25 32.421875 41.125 36.953125 \r\nQ 45.015625 41.5 45.015625 49.421875 \r\nQ 45.015625 57.28125 41.125 61.84375 \r\nQ 37.25 66.40625 30.609375 66.40625 \r\nQ 23.96875 66.40625 20.09375 61.84375 \r\nQ 16.21875 57.28125 16.21875 49.421875 \r\nQ 16.21875 41.5 20.09375 36.953125 \r\nQ 23.96875 32.421875 30.609375 32.421875 \r\nz\r\n\" id=\"DejaVuSans-57\"/>\r\n       </defs>\r\n       <use xlink:href=\"#DejaVuSans-57\"/>\r\n       <use x=\"63.623047\" xlink:href=\"#DejaVuSans-54\"/>\r\n      </g>\r\n     </g>\r\n    </g>\r\n    <g id=\"ytick_2\">\r\n     <g id=\"line2d_11\">\r\n      <g>\r\n       <use style=\"stroke:#000000;stroke-width:0.8;\" x=\"33.2875\" xlink:href=\"#m94febb6664\" y=\"155.454545\"/>\r\n      </g>\r\n     </g>\r\n     <g id=\"text_11\">\r\n      <!-- 98 -->\r\n      <g transform=\"translate(13.5625 159.253764)scale(0.1 -0.1)\">\r\n       <use xlink:href=\"#DejaVuSans-57\"/>\r\n       <use x=\"63.623047\" xlink:href=\"#DejaVuSans-56\"/>\r\n      </g>\r\n     </g>\r\n    </g>\r\n    <g id=\"ytick_3\">\r\n     <g id=\"line2d_12\">\r\n      <g>\r\n       <use style=\"stroke:#000000;stroke-width:0.8;\" x=\"33.2875\" xlink:href=\"#m94febb6664\" y=\"115.92\"/>\r\n      </g>\r\n     </g>\r\n     <g id=\"text_12\">\r\n      <!-- 100 -->\r\n      <g transform=\"translate(7.2 119.719219)scale(0.1 -0.1)\">\r\n       <use xlink:href=\"#DejaVuSans-49\"/>\r\n       <use x=\"63.623047\" xlink:href=\"#DejaVuSans-48\"/>\r\n       <use x=\"127.246094\" xlink:href=\"#DejaVuSans-48\"/>\r\n      </g>\r\n     </g>\r\n    </g>\r\n    <g id=\"ytick_4\">\r\n     <g id=\"line2d_13\">\r\n      <g>\r\n       <use style=\"stroke:#000000;stroke-width:0.8;\" x=\"33.2875\" xlink:href=\"#m94febb6664\" y=\"76.385455\"/>\r\n      </g>\r\n     </g>\r\n     <g id=\"text_13\">\r\n      <!-- 102 -->\r\n      <g transform=\"translate(7.2 80.184673)scale(0.1 -0.1)\">\r\n       <use xlink:href=\"#DejaVuSans-49\"/>\r\n       <use x=\"63.623047\" xlink:href=\"#DejaVuSans-48\"/>\r\n       <use x=\"127.246094\" xlink:href=\"#DejaVuSans-50\"/>\r\n      </g>\r\n     </g>\r\n    </g>\r\n    <g id=\"ytick_5\">\r\n     <g id=\"line2d_14\">\r\n      <g>\r\n       <use style=\"stroke:#000000;stroke-width:0.8;\" x=\"33.2875\" xlink:href=\"#m94febb6664\" y=\"36.850909\"/>\r\n      </g>\r\n     </g>\r\n     <g id=\"text_14\">\r\n      <!-- 104 -->\r\n      <g transform=\"translate(7.2 40.650128)scale(0.1 -0.1)\">\r\n       <use xlink:href=\"#DejaVuSans-49\"/>\r\n       <use x=\"63.623047\" xlink:href=\"#DejaVuSans-48\"/>\r\n       <use x=\"127.246094\" xlink:href=\"#DejaVuSans-52\"/>\r\n      </g>\r\n     </g>\r\n    </g>\r\n   </g>\r\n   <g id=\"line2d_15\">\r\n    <path clip-path=\"url(#p4bded957ab)\" d=\"M 48.505682 115.92 \r\nL 67.528409 115.92 \r\nL 86.551136 115.92 \r\nL 105.573864 115.92 \r\nL 124.596591 115.92 \r\nL 143.619318 115.92 \r\nL 162.642045 115.92 \r\nL 181.664773 115.92 \r\nL 200.6875 115.92 \r\nL 219.710227 115.92 \r\nL 238.732955 115.92 \r\nL 257.755682 115.92 \r\nL 276.778409 115.92 \r\nL 295.801136 115.92 \r\nL 314.823864 115.92 \r\nL 333.846591 115.92 \r\nL 352.869318 115.92 \r\n\" style=\"fill:none;stroke:#1f77b4;stroke-linecap:square;stroke-width:1.5;\"/>\r\n   </g>\r\n   <g id=\"patch_3\">\r\n    <path d=\"M 33.2875 224.64 \r\nL 33.2875 7.2 \r\n\" style=\"fill:none;stroke:#000000;stroke-linecap:square;stroke-linejoin:miter;stroke-width:0.8;\"/>\r\n   </g>\r\n   <g id=\"patch_4\">\r\n    <path d=\"M 368.0875 224.64 \r\nL 368.0875 7.2 \r\n\" style=\"fill:none;stroke:#000000;stroke-linecap:square;stroke-linejoin:miter;stroke-width:0.8;\"/>\r\n   </g>\r\n   <g id=\"patch_5\">\r\n    <path d=\"M 33.2875 224.64 \r\nL 368.0875 224.64 \r\n\" style=\"fill:none;stroke:#000000;stroke-linecap:square;stroke-linejoin:miter;stroke-width:0.8;\"/>\r\n   </g>\r\n   <g id=\"patch_6\">\r\n    <path d=\"M 33.2875 7.2 \r\nL 368.0875 7.2 \r\n\" style=\"fill:none;stroke:#000000;stroke-linecap:square;stroke-linejoin:miter;stroke-width:0.8;\"/>\r\n   </g>\r\n  </g>\r\n </g>\r\n <defs>\r\n  <clipPath id=\"p4bded957ab\">\r\n   <rect height=\"217.44\" width=\"334.8\" x=\"33.2875\" y=\"7.2\"/>\r\n  </clipPath>\r\n </defs>\r\n</svg>\r\n",
      "image/png": "[encoded data removed]"
     },
     "metadata": {
      "needs_background": "light"
     }
    }
   ],
   "source": [
    "var1=np.cumsum(np.round(pca.explained_variance_ratio_, decimals=4)*100)\n",
    "plt.plot(var1)"
   ]
  },
  {
   "cell_type": "markdown",
   "metadata": {
    "collapsed": true
   },
   "source": [
    "### Testing with mobile captured leaves which are not classified"
   ]
  },
  {
   "cell_type": "code",
   "execution_count": 40,
   "metadata": {},
   "outputs": [],
   "source": [
    "import os\n",
    "import cv2"
   ]
  },
  {
   "cell_type": "code",
   "execution_count": 41,
   "metadata": {},
   "outputs": [],
   "source": [
    "def bg_sub(filename):\n",
    "    test_img_path = '..\\\\mobile captures\\\\' + filename\n",
    "    main_img = cv2.imread(test_img_path)\n",
    "    img = cv2.cvtColor(main_img, cv2.COLOR_BGR2RGB)\n",
    "    resized_image = cv2.resize(img, (1600, 1200))\n",
    "    size_y,size_x,_ = img.shape\n",
    "    gs = cv2.cvtColor(resized_image,cv2.COLOR_RGB2GRAY)\n",
    "    blur = cv2.GaussianBlur(gs, (55,55),0)\n",
    "    ret_otsu,im_bw_otsu = cv2.threshold(blur,0,255,cv2.THRESH_BINARY_INV+cv2.THRESH_OTSU)\n",
    "    kernel = np.ones((50,50),np.uint8)\n",
    "    closing = cv2.morphologyEx(im_bw_otsu, cv2.MORPH_CLOSE, kernel)\n",
    "    \n",
    "    contours, hierarchy = cv2.findContours(closing,cv2.RETR_TREE,cv2.CHAIN_APPROX_SIMPLE)\n",
    "    \n",
    "    contains = []\n",
    "    y_ri,x_ri, _ = resized_image.shape\n",
    "    for cc in contours:\n",
    "        yn = cv2.pointPolygonTest(cc,(x_ri//2,y_ri//2),False)\n",
    "        contains.append(yn)\n",
    "\n",
    "    val = [contains.index(temp) for temp in contains if temp>0]\n",
    "    index = val[0]\n",
    "    \n",
    "    black_img = np.empty([1200,1600,3],dtype=np.uint8)\n",
    "    black_img.fill(0)\n",
    "    \n",
    "    cnt = contours[index]\n",
    "    mask = cv2.drawContours(black_img, [cnt] , 0, (255,255,255), -1)\n",
    "    \n",
    "    maskedImg = cv2.bitwise_and(resized_image, mask)\n",
    "    white_pix = [255,255,255]\n",
    "    black_pix = [0,0,0]\n",
    "    \n",
    "    final_img = maskedImg\n",
    "    h,w,channels = final_img.shape\n",
    "    for x in range(0,w):\n",
    "        for y in range(0,h):\n",
    "            channels_xy = final_img[y,x]\n",
    "            if all(channels_xy == black_pix):\n",
    "                final_img[y,x] = white_pix\n",
    "    \n",
    "    return final_img"
   ]
  },
  {
   "cell_type": "code",
   "execution_count": 42,
   "metadata": {},
   "outputs": [
    {
     "output_type": "execute_result",
     "data": {
      "text/plain": [
       "array([[[255, 255, 255],\n",
       "        [255, 255, 255],\n",
       "        [255, 255, 255],\n",
       "        ...,\n",
       "        [255, 255, 255],\n",
       "        [255, 255, 255],\n",
       "        [255, 255, 255]],\n",
       "\n",
       "       [[255, 255, 255],\n",
       "        [255, 255, 255],\n",
       "        [255, 255, 255],\n",
       "        ...,\n",
       "        [255, 255, 255],\n",
       "        [255, 255, 255],\n",
       "        [255, 255, 255]],\n",
       "\n",
       "       [[255, 255, 255],\n",
       "        [255, 255, 255],\n",
       "        [255, 255, 255],\n",
       "        ...,\n",
       "        [255, 255, 255],\n",
       "        [255, 255, 255],\n",
       "        [255, 255, 255]],\n",
       "\n",
       "       ...,\n",
       "\n",
       "       [[255, 255, 255],\n",
       "        [255, 255, 255],\n",
       "        [255, 255, 255],\n",
       "        ...,\n",
       "        [255, 255, 255],\n",
       "        [255, 255, 255],\n",
       "        [255, 255, 255]],\n",
       "\n",
       "       [[255, 255, 255],\n",
       "        [255, 255, 255],\n",
       "        [255, 255, 255],\n",
       "        ...,\n",
       "        [255, 255, 255],\n",
       "        [255, 255, 255],\n",
       "        [255, 255, 255]],\n",
       "\n",
       "       [[255, 255, 255],\n",
       "        [255, 255, 255],\n",
       "        [255, 255, 255],\n",
       "        ...,\n",
       "        [255, 255, 255],\n",
       "        [255, 255, 255],\n",
       "        [255, 255, 255]]], dtype=uint8)"
      ]
     },
     "metadata": {},
     "execution_count": 42
    }
   ],
   "source": [
    "filename = 'Test.jpg'\n",
    "#test_img_path = '..\\\\mobile captures\\\\' + filename\n",
    "#main_img = cv2.imread(test_img_path)\n",
    "#plt.imshow(main_img)\n",
    "bg_rem_img = bg_sub(filename)\n",
    "bg_rem_img"
   ]
  },
  {
   "cell_type": "code",
   "execution_count": 43,
   "metadata": {},
   "outputs": [
    {
     "output_type": "execute_result",
     "data": {
      "text/plain": [
       "<matplotlib.image.AxesImage at 0x20a5aa3ac40>"
      ]
     },
     "metadata": {},
     "execution_count": 43
    },
    {
     "output_type": "display_data",
     "data": {
      "text/plain": "<Figure size 432x288 with 1 Axes>",
      "image/svg+xml": "<?xml version=\"1.0\" encoding=\"utf-8\" standalone=\"no\"?>\r\n<!DOCTYPE svg PUBLIC \"-//W3C//DTD SVG 1.1//EN\"\r\n  \"http://www.w3.org/Graphics/SVG/1.1/DTD/svg11.dtd\">\r\n<!-- Created with matplotlib (https://matplotlib.org/) -->\r\n<svg height=\"252.226744pt\" version=\"1.1\" viewBox=\"0 0 336.77 252.226744\" width=\"336.77pt\" xmlns=\"http://www.w3.org/2000/svg\" xmlns:xlink=\"http://www.w3.org/1999/xlink\">\r\n <metadata>\r\n  <rdf:RDF xmlns:cc=\"http://creativecommons.org/ns#\" xmlns:dc=\"http://purl.org/dc/elements/1.1/\" xmlns:rdf=\"http://www.w3.org/1999/02/22-rdf-syntax-ns#\">\r\n   <cc:Work>\r\n    <dc:type rdf:resource=\"http://purl.org/dc/dcmitype/StillImage\"/>\r\n    <dc:date>2021-05-05T19:56:51.007456</dc:date>\r\n    <dc:format>image/svg+xml</dc:format>\r\n    <dc:creator>\r\n     <cc:Agent>\r\n      <dc:title>Matplotlib v3.3.2, https://matplotlib.org/</dc:title>\r\n     </cc:Agent>\r\n    </dc:creator>\r\n   </cc:Work>\r\n  </rdf:RDF>\r\n </metadata>\r\n <defs>\r\n  <style type=\"text/css\">*{stroke-linecap:butt;stroke-linejoin:round;}</style>\r\n </defs>\r\n <g id=\"figure_1\">\r\n  <g id=\"patch_1\">\r\n   <path d=\"M 0 252.226744 \r\nL 336.77 252.226744 \r\nL 336.77 0 \r\nL 0 0 \r\nz\r\n\" style=\"fill:none;\"/>\r\n  </g>\r\n  <g id=\"axes_1\">\r\n   <g id=\"patch_2\">\r\n    <path d=\"M 39.65 228.348619 \r\nL 329.57 228.348619 \r\nL 329.57 10.908619 \r\nL 39.65 10.908619 \r\nz\r\n\" style=\"fill:#ffffff;\"/>\r\n   </g>\r\n   <g clip-path=\"url(#p1d999557ff)\">\r\n    <image height=\"218\" id=\"image455aa747ab\" transform=\"scale(1 -1)translate(0 -218)\" width=\"290\" x=\"39.65\" xlink:href=\"data:image/png;base64,\r\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\" y=\"-10.348619\"/>\r\n   </g>\r\n   <g id=\"matplotlib.axis_1\">\r\n    <g id=\"xtick_1\">\r\n     <g id=\"line2d_1\">\r\n      <defs>\r\n       <path d=\"M 0 0 \r\nL 0 3.5 \r\n\" id=\"m96ab4c77c9\" style=\"stroke:#000000;stroke-width:0.8;\"/>\r\n      </defs>\r\n      <g>\r\n       <use style=\"stroke:#000000;stroke-width:0.8;\" x=\"39.7406\" xlink:href=\"#m96ab4c77c9\" y=\"228.348619\"/>\r\n      </g>\r\n     </g>\r\n     <g id=\"text_1\">\r\n      <!-- 0 -->\r\n      <g transform=\"translate(36.55935 242.947056)scale(0.1 -0.1)\">\r\n       <defs>\r\n        <path d=\"M 31.78125 66.40625 \r\nQ 24.171875 66.40625 20.328125 58.90625 \r\nQ 16.5 51.421875 16.5 36.375 \r\nQ 16.5 21.390625 20.328125 13.890625 \r\nQ 24.171875 6.390625 31.78125 6.390625 \r\nQ 39.453125 6.390625 43.28125 13.890625 \r\nQ 47.125 21.390625 47.125 36.375 \r\nQ 47.125 51.421875 43.28125 58.90625 \r\nQ 39.453125 66.40625 31.78125 66.40625 \r\nz\r\nM 31.78125 74.21875 \r\nQ 44.046875 74.21875 50.515625 64.515625 \r\nQ 56.984375 54.828125 56.984375 36.375 \r\nQ 56.984375 17.96875 50.515625 8.265625 \r\nQ 44.046875 -1.421875 31.78125 -1.421875 \r\nQ 19.53125 -1.421875 13.0625 8.265625 \r\nQ 6.59375 17.96875 6.59375 36.375 \r\nQ 6.59375 54.828125 13.0625 64.515625 \r\nQ 19.53125 74.21875 31.78125 74.21875 \r\nz\r\n\" id=\"DejaVuSans-48\"/>\r\n       </defs>\r\n       <use xlink:href=\"#DejaVuSans-48\"/>\r\n      </g>\r\n     </g>\r\n    </g>\r\n    <g id=\"xtick_2\">\r\n     <g id=\"line2d_2\">\r\n      <g>\r\n       <use style=\"stroke:#000000;stroke-width:0.8;\" x=\"75.9806\" xlink:href=\"#m96ab4c77c9\" y=\"228.348619\"/>\r\n      </g>\r\n     </g>\r\n     <g id=\"text_2\">\r\n      <!-- 200 -->\r\n      <g transform=\"translate(66.43685 242.947056)scale(0.1 -0.1)\">\r\n       <defs>\r\n        <path d=\"M 19.1875 8.296875 \r\nL 53.609375 8.296875 \r\nL 53.609375 0 \r\nL 7.328125 0 \r\nL 7.328125 8.296875 \r\nQ 12.9375 14.109375 22.625 23.890625 \r\nQ 32.328125 33.6875 34.8125 36.53125 \r\nQ 39.546875 41.84375 41.421875 45.53125 \r\nQ 43.3125 49.21875 43.3125 52.78125 \r\nQ 43.3125 58.59375 39.234375 62.25 \r\nQ 35.15625 65.921875 28.609375 65.921875 \r\nQ 23.96875 65.921875 18.8125 64.3125 \r\nQ 13.671875 62.703125 7.8125 59.421875 \r\nL 7.8125 69.390625 \r\nQ 13.765625 71.78125 18.9375 73 \r\nQ 24.125 74.21875 28.421875 74.21875 \r\nQ 39.75 74.21875 46.484375 68.546875 \r\nQ 53.21875 62.890625 53.21875 53.421875 \r\nQ 53.21875 48.921875 51.53125 44.890625 \r\nQ 49.859375 40.875 45.40625 35.40625 \r\nQ 44.1875 33.984375 37.640625 27.21875 \r\nQ 31.109375 20.453125 19.1875 8.296875 \r\nz\r\n\" id=\"DejaVuSans-50\"/>\r\n       </defs>\r\n       <use xlink:href=\"#DejaVuSans-50\"/>\r\n       <use x=\"63.623047\" xlink:href=\"#DejaVuSans-48\"/>\r\n       <use x=\"127.246094\" xlink:href=\"#DejaVuSans-48\"/>\r\n      </g>\r\n     </g>\r\n    </g>\r\n    <g id=\"xtick_3\">\r\n     <g id=\"line2d_3\">\r\n      <g>\r\n       <use style=\"stroke:#000000;stroke-width:0.8;\" x=\"112.2206\" xlink:href=\"#m96ab4c77c9\" y=\"228.348619\"/>\r\n      </g>\r\n     </g>\r\n     <g id=\"text_3\">\r\n      <!-- 400 -->\r\n      <g transform=\"translate(102.67685 242.947056)scale(0.1 -0.1)\">\r\n       <defs>\r\n        <path d=\"M 37.796875 64.3125 \r\nL 12.890625 25.390625 \r\nL 37.796875 25.390625 \r\nz\r\nM 35.203125 72.90625 \r\nL 47.609375 72.90625 \r\nL 47.609375 25.390625 \r\nL 58.015625 25.390625 \r\nL 58.015625 17.1875 \r\nL 47.609375 17.1875 \r\nL 47.609375 0 \r\nL 37.796875 0 \r\nL 37.796875 17.1875 \r\nL 4.890625 17.1875 \r\nL 4.890625 26.703125 \r\nz\r\n\" id=\"DejaVuSans-52\"/>\r\n       </defs>\r\n       <use xlink:href=\"#DejaVuSans-52\"/>\r\n       <use x=\"63.623047\" xlink:href=\"#DejaVuSans-48\"/>\r\n       <use x=\"127.246094\" xlink:href=\"#DejaVuSans-48\"/>\r\n      </g>\r\n     </g>\r\n    </g>\r\n    <g id=\"xtick_4\">\r\n     <g id=\"line2d_4\">\r\n      <g>\r\n       <use style=\"stroke:#000000;stroke-width:0.8;\" x=\"148.4606\" xlink:href=\"#m96ab4c77c9\" y=\"228.348619\"/>\r\n      </g>\r\n     </g>\r\n     <g id=\"text_4\">\r\n      <!-- 600 -->\r\n      <g transform=\"translate(138.91685 242.947056)scale(0.1 -0.1)\">\r\n       <defs>\r\n        <path d=\"M 33.015625 40.375 \r\nQ 26.375 40.375 22.484375 35.828125 \r\nQ 18.609375 31.296875 18.609375 23.390625 \r\nQ 18.609375 15.53125 22.484375 10.953125 \r\nQ 26.375 6.390625 33.015625 6.390625 \r\nQ 39.65625 6.390625 43.53125 10.953125 \r\nQ 47.40625 15.53125 47.40625 23.390625 \r\nQ 47.40625 31.296875 43.53125 35.828125 \r\nQ 39.65625 40.375 33.015625 40.375 \r\nz\r\nM 52.59375 71.296875 \r\nL 52.59375 62.3125 \r\nQ 48.875 64.0625 45.09375 64.984375 \r\nQ 41.3125 65.921875 37.59375 65.921875 \r\nQ 27.828125 65.921875 22.671875 59.328125 \r\nQ 17.53125 52.734375 16.796875 39.40625 \r\nQ 19.671875 43.65625 24.015625 45.921875 \r\nQ 28.375 48.1875 33.59375 48.1875 \r\nQ 44.578125 48.1875 50.953125 41.515625 \r\nQ 57.328125 34.859375 57.328125 23.390625 \r\nQ 57.328125 12.15625 50.6875 5.359375 \r\nQ 44.046875 -1.421875 33.015625 -1.421875 \r\nQ 20.359375 -1.421875 13.671875 8.265625 \r\nQ 6.984375 17.96875 6.984375 36.375 \r\nQ 6.984375 53.65625 15.1875 63.9375 \r\nQ 23.390625 74.21875 37.203125 74.21875 \r\nQ 40.921875 74.21875 44.703125 73.484375 \r\nQ 48.484375 72.75 52.59375 71.296875 \r\nz\r\n\" id=\"DejaVuSans-54\"/>\r\n       </defs>\r\n       <use xlink:href=\"#DejaVuSans-54\"/>\r\n       <use x=\"63.623047\" xlink:href=\"#DejaVuSans-48\"/>\r\n       <use x=\"127.246094\" xlink:href=\"#DejaVuSans-48\"/>\r\n      </g>\r\n     </g>\r\n    </g>\r\n    <g id=\"xtick_5\">\r\n     <g id=\"line2d_5\">\r\n      <g>\r\n       <use style=\"stroke:#000000;stroke-width:0.8;\" x=\"184.7006\" xlink:href=\"#m96ab4c77c9\" y=\"228.348619\"/>\r\n      </g>\r\n     </g>\r\n     <g id=\"text_5\">\r\n      <!-- 800 -->\r\n      <g transform=\"translate(175.15685 242.947056)scale(0.1 -0.1)\">\r\n       <defs>\r\n        <path d=\"M 31.78125 34.625 \r\nQ 24.75 34.625 20.71875 30.859375 \r\nQ 16.703125 27.09375 16.703125 20.515625 \r\nQ 16.703125 13.921875 20.71875 10.15625 \r\nQ 24.75 6.390625 31.78125 6.390625 \r\nQ 38.8125 6.390625 42.859375 10.171875 \r\nQ 46.921875 13.96875 46.921875 20.515625 \r\nQ 46.921875 27.09375 42.890625 30.859375 \r\nQ 38.875 34.625 31.78125 34.625 \r\nz\r\nM 21.921875 38.8125 \r\nQ 15.578125 40.375 12.03125 44.71875 \r\nQ 8.5 49.078125 8.5 55.328125 \r\nQ 8.5 64.0625 14.71875 69.140625 \r\nQ 20.953125 74.21875 31.78125 74.21875 \r\nQ 42.671875 74.21875 48.875 69.140625 \r\nQ 55.078125 64.0625 55.078125 55.328125 \r\nQ 55.078125 49.078125 51.53125 44.71875 \r\nQ 48 40.375 41.703125 38.8125 \r\nQ 48.828125 37.15625 52.796875 32.3125 \r\nQ 56.78125 27.484375 56.78125 20.515625 \r\nQ 56.78125 9.90625 50.3125 4.234375 \r\nQ 43.84375 -1.421875 31.78125 -1.421875 \r\nQ 19.734375 -1.421875 13.25 4.234375 \r\nQ 6.78125 9.90625 6.78125 20.515625 \r\nQ 6.78125 27.484375 10.78125 32.3125 \r\nQ 14.796875 37.15625 21.921875 38.8125 \r\nz\r\nM 18.3125 54.390625 \r\nQ 18.3125 48.734375 21.84375 45.5625 \r\nQ 25.390625 42.390625 31.78125 42.390625 \r\nQ 38.140625 42.390625 41.71875 45.5625 \r\nQ 45.3125 48.734375 45.3125 54.390625 \r\nQ 45.3125 60.0625 41.71875 63.234375 \r\nQ 38.140625 66.40625 31.78125 66.40625 \r\nQ 25.390625 66.40625 21.84375 63.234375 \r\nQ 18.3125 60.0625 18.3125 54.390625 \r\nz\r\n\" id=\"DejaVuSans-56\"/>\r\n       </defs>\r\n       <use xlink:href=\"#DejaVuSans-56\"/>\r\n       <use x=\"63.623047\" xlink:href=\"#DejaVuSans-48\"/>\r\n       <use x=\"127.246094\" xlink:href=\"#DejaVuSans-48\"/>\r\n      </g>\r\n     </g>\r\n    </g>\r\n    <g id=\"xtick_6\">\r\n     <g id=\"line2d_6\">\r\n      <g>\r\n       <use style=\"stroke:#000000;stroke-width:0.8;\" x=\"220.9406\" xlink:href=\"#m96ab4c77c9\" y=\"228.348619\"/>\r\n      </g>\r\n     </g>\r\n     <g id=\"text_6\">\r\n      <!-- 1000 -->\r\n      <g transform=\"translate(208.2156 242.947056)scale(0.1 -0.1)\">\r\n       <defs>\r\n        <path d=\"M 12.40625 8.296875 \r\nL 28.515625 8.296875 \r\nL 28.515625 63.921875 \r\nL 10.984375 60.40625 \r\nL 10.984375 69.390625 \r\nL 28.421875 72.90625 \r\nL 38.28125 72.90625 \r\nL 38.28125 8.296875 \r\nL 54.390625 8.296875 \r\nL 54.390625 0 \r\nL 12.40625 0 \r\nz\r\n\" id=\"DejaVuSans-49\"/>\r\n       </defs>\r\n       <use xlink:href=\"#DejaVuSans-49\"/>\r\n       <use x=\"63.623047\" xlink:href=\"#DejaVuSans-48\"/>\r\n       <use x=\"127.246094\" xlink:href=\"#DejaVuSans-48\"/>\r\n       <use x=\"190.869141\" xlink:href=\"#DejaVuSans-48\"/>\r\n      </g>\r\n     </g>\r\n    </g>\r\n    <g id=\"xtick_7\">\r\n     <g id=\"line2d_7\">\r\n      <g>\r\n       <use style=\"stroke:#000000;stroke-width:0.8;\" x=\"257.1806\" xlink:href=\"#m96ab4c77c9\" y=\"228.348619\"/>\r\n      </g>\r\n     </g>\r\n     <g id=\"text_7\">\r\n      <!-- 1200 -->\r\n      <g transform=\"translate(244.4556 242.947056)scale(0.1 -0.1)\">\r\n       <use xlink:href=\"#DejaVuSans-49\"/>\r\n       <use x=\"63.623047\" xlink:href=\"#DejaVuSans-50\"/>\r\n       <use x=\"127.246094\" xlink:href=\"#DejaVuSans-48\"/>\r\n       <use x=\"190.869141\" xlink:href=\"#DejaVuSans-48\"/>\r\n      </g>\r\n     </g>\r\n    </g>\r\n    <g id=\"xtick_8\">\r\n     <g id=\"line2d_8\">\r\n      <g>\r\n       <use style=\"stroke:#000000;stroke-width:0.8;\" x=\"293.4206\" xlink:href=\"#m96ab4c77c9\" y=\"228.348619\"/>\r\n      </g>\r\n     </g>\r\n     <g id=\"text_8\">\r\n      <!-- 1400 -->\r\n      <g transform=\"translate(280.6956 242.947056)scale(0.1 -0.1)\">\r\n       <use xlink:href=\"#DejaVuSans-49\"/>\r\n       <use x=\"63.623047\" xlink:href=\"#DejaVuSans-52\"/>\r\n       <use x=\"127.246094\" xlink:href=\"#DejaVuSans-48\"/>\r\n       <use x=\"190.869141\" xlink:href=\"#DejaVuSans-48\"/>\r\n      </g>\r\n     </g>\r\n    </g>\r\n   </g>\r\n   <g id=\"matplotlib.axis_2\">\r\n    <g id=\"ytick_1\">\r\n     <g id=\"line2d_9\">\r\n      <defs>\r\n       <path d=\"M 0 0 \r\nL -3.5 0 \r\n\" id=\"mb863c965a8\" style=\"stroke:#000000;stroke-width:0.8;\"/>\r\n      </defs>\r\n      <g>\r\n       <use style=\"stroke:#000000;stroke-width:0.8;\" x=\"39.65\" xlink:href=\"#mb863c965a8\" y=\"10.999219\"/>\r\n      </g>\r\n     </g>\r\n     <g id=\"text_9\">\r\n      <!-- 0 -->\r\n      <g transform=\"translate(26.2875 14.798437)scale(0.1 -0.1)\">\r\n       <use xlink:href=\"#DejaVuSans-48\"/>\r\n      </g>\r\n     </g>\r\n    </g>\r\n    <g id=\"ytick_2\">\r\n     <g id=\"line2d_10\">\r\n      <g>\r\n       <use style=\"stroke:#000000;stroke-width:0.8;\" x=\"39.65\" xlink:href=\"#mb863c965a8\" y=\"47.239219\"/>\r\n      </g>\r\n     </g>\r\n     <g id=\"text_10\">\r\n      <!-- 200 -->\r\n      <g transform=\"translate(13.5625 51.038437)scale(0.1 -0.1)\">\r\n       <use xlink:href=\"#DejaVuSans-50\"/>\r\n       <use x=\"63.623047\" xlink:href=\"#DejaVuSans-48\"/>\r\n       <use x=\"127.246094\" xlink:href=\"#DejaVuSans-48\"/>\r\n      </g>\r\n     </g>\r\n    </g>\r\n    <g id=\"ytick_3\">\r\n     <g id=\"line2d_11\">\r\n      <g>\r\n       <use style=\"stroke:#000000;stroke-width:0.8;\" x=\"39.65\" xlink:href=\"#mb863c965a8\" y=\"83.479219\"/>\r\n      </g>\r\n     </g>\r\n     <g id=\"text_11\">\r\n      <!-- 400 -->\r\n      <g transform=\"translate(13.5625 87.278437)scale(0.1 -0.1)\">\r\n       <use xlink:href=\"#DejaVuSans-52\"/>\r\n       <use x=\"63.623047\" xlink:href=\"#DejaVuSans-48\"/>\r\n       <use x=\"127.246094\" xlink:href=\"#DejaVuSans-48\"/>\r\n      </g>\r\n     </g>\r\n    </g>\r\n    <g id=\"ytick_4\">\r\n     <g id=\"line2d_12\">\r\n      <g>\r\n       <use style=\"stroke:#000000;stroke-width:0.8;\" x=\"39.65\" xlink:href=\"#mb863c965a8\" y=\"119.719219\"/>\r\n      </g>\r\n     </g>\r\n     <g id=\"text_12\">\r\n      <!-- 600 -->\r\n      <g transform=\"translate(13.5625 123.518437)scale(0.1 -0.1)\">\r\n       <use xlink:href=\"#DejaVuSans-54\"/>\r\n       <use x=\"63.623047\" xlink:href=\"#DejaVuSans-48\"/>\r\n       <use x=\"127.246094\" xlink:href=\"#DejaVuSans-48\"/>\r\n      </g>\r\n     </g>\r\n    </g>\r\n    <g id=\"ytick_5\">\r\n     <g id=\"line2d_13\">\r\n      <g>\r\n       <use style=\"stroke:#000000;stroke-width:0.8;\" x=\"39.65\" xlink:href=\"#mb863c965a8\" y=\"155.959219\"/>\r\n      </g>\r\n     </g>\r\n     <g id=\"text_13\">\r\n      <!-- 800 -->\r\n      <g transform=\"translate(13.5625 159.758437)scale(0.1 -0.1)\">\r\n       <use xlink:href=\"#DejaVuSans-56\"/>\r\n       <use x=\"63.623047\" xlink:href=\"#DejaVuSans-48\"/>\r\n       <use x=\"127.246094\" xlink:href=\"#DejaVuSans-48\"/>\r\n      </g>\r\n     </g>\r\n    </g>\r\n    <g id=\"ytick_6\">\r\n     <g id=\"line2d_14\">\r\n      <g>\r\n       <use style=\"stroke:#000000;stroke-width:0.8;\" x=\"39.65\" xlink:href=\"#mb863c965a8\" y=\"192.199219\"/>\r\n      </g>\r\n     </g>\r\n     <g id=\"text_14\">\r\n      <!-- 1000 -->\r\n      <g transform=\"translate(7.2 195.998437)scale(0.1 -0.1)\">\r\n       <use xlink:href=\"#DejaVuSans-49\"/>\r\n       <use x=\"63.623047\" xlink:href=\"#DejaVuSans-48\"/>\r\n       <use x=\"127.246094\" xlink:href=\"#DejaVuSans-48\"/>\r\n       <use x=\"190.869141\" xlink:href=\"#DejaVuSans-48\"/>\r\n      </g>\r\n     </g>\r\n    </g>\r\n   </g>\r\n   <g id=\"patch_3\">\r\n    <path d=\"M 39.65 228.348619 \r\nL 39.65 10.908619 \r\n\" style=\"fill:none;stroke:#000000;stroke-linecap:square;stroke-linejoin:miter;stroke-width:0.8;\"/>\r\n   </g>\r\n   <g id=\"patch_4\">\r\n    <path d=\"M 329.57 228.348619 \r\nL 329.57 10.908619 \r\n\" style=\"fill:none;stroke:#000000;stroke-linecap:square;stroke-linejoin:miter;stroke-width:0.8;\"/>\r\n   </g>\r\n   <g id=\"patch_5\">\r\n    <path d=\"M 39.65 228.348619 \r\nL 329.57 228.348619 \r\n\" style=\"fill:none;stroke:#000000;stroke-linecap:square;stroke-linejoin:miter;stroke-width:0.8;\"/>\r\n   </g>\r\n   <g id=\"patch_6\">\r\n    <path d=\"M 39.65 10.908619 \r\nL 329.57 10.908619 \r\n\" style=\"fill:none;stroke:#000000;stroke-linecap:square;stroke-linejoin:miter;stroke-width:0.8;\"/>\r\n   </g>\r\n  </g>\r\n </g>\r\n <defs>\r\n  <clipPath id=\"p1d999557ff\">\r\n   <rect height=\"217.44\" width=\"289.92\" x=\"39.65\" y=\"10.908619\"/>\r\n  </clipPath>\r\n </defs>\r\n</svg>\r\n",
      "image/png": "[encoded data removed]"
     },
     "metadata": {
      "needs_background": "light"
     }
    }
   ],
   "source": [
    "plt.imshow(bg_rem_img)"
   ]
  },
  {
   "cell_type": "code",
   "execution_count": 44,
   "metadata": {},
   "outputs": [],
   "source": [
    "import mahotas as mt"
   ]
  },
  {
   "cell_type": "code",
   "execution_count": 45,
   "metadata": {},
   "outputs": [],
   "source": [
    "def feature_extract(img):\n",
    "    names = ['area','perimeter','pysiological_length','pysiological_width','aspect_ratio','rectangularity','circularity', \\\n",
    "             'mean_r','mean_g','mean_b','stddev_r','stddev_g','stddev_b', \\\n",
    "             'contrast','correlation','inverse_difference_moments','entropy'\n",
    "            ]\n",
    "    df = pd.DataFrame([], columns=names)\n",
    "\n",
    "    #Preprocessing\n",
    "    gs = cv2.cvtColor(img,cv2.COLOR_RGB2GRAY)\n",
    "    blur = cv2.GaussianBlur(gs, (25,25),0)\n",
    "    ret_otsu,im_bw_otsu = cv2.threshold(blur,0,255,cv2.THRESH_BINARY_INV+cv2.THRESH_OTSU)\n",
    "    kernel = np.ones((50,50),np.uint8)\n",
    "    closing = cv2.morphologyEx(im_bw_otsu, cv2.MORPH_CLOSE, kernel)\n",
    "\n",
    "    #Shape features\n",
    "    contours, _ = cv2.findContours(closing,cv2.RETR_TREE,cv2.CHAIN_APPROX_SIMPLE)\n",
    "    cnt = contours[0]\n",
    "    M = cv2.moments(cnt)\n",
    "    area = cv2.contourArea(cnt)\n",
    "    perimeter = cv2.arcLength(cnt,True)\n",
    "    x,y,w,h = cv2.boundingRect(cnt)\n",
    "    aspect_ratio = float(w)/h\n",
    "    rectangularity = w*h/area\n",
    "    circularity = ((perimeter)**2)/area\n",
    "\n",
    "    #Color features\n",
    "    red_channel = img[:,:,0]\n",
    "    green_channel = img[:,:,1]\n",
    "    blue_channel = img[:,:,2]\n",
    "    blue_channel[blue_channel == 255] = 0\n",
    "    green_channel[green_channel == 255] = 0\n",
    "    red_channel[red_channel == 255] = 0\n",
    "\n",
    "    red_mean = np.mean(red_channel)\n",
    "    green_mean = np.mean(green_channel)\n",
    "    blue_mean = np.mean(blue_channel)\n",
    "\n",
    "    red_std = np.std(red_channel)\n",
    "    green_std = np.std(green_channel)\n",
    "    blue_std = np.std(blue_channel)\n",
    "\n",
    "    #Texture features\n",
    "    textures = mt.features.haralick(gs)\n",
    "    ht_mean = textures.mean(axis=0)\n",
    "    contrast = ht_mean[1]\n",
    "    correlation = ht_mean[2]\n",
    "    inverse_diff_moments = ht_mean[4]\n",
    "    entropy = ht_mean[8]\n",
    "\n",
    "    vector = [area,perimeter,w,h,aspect_ratio,rectangularity,circularity,\\\n",
    "              red_mean,green_mean,blue_mean,red_std,green_std,blue_std,\\\n",
    "              contrast,correlation,inverse_diff_moments,entropy\n",
    "             ]\n",
    "\n",
    "    df_temp = pd.DataFrame([vector],columns=names)\n",
    "    df = df.append(df_temp)\n",
    "    \n",
    "    return df"
   ]
  },
  {
   "cell_type": "code",
   "execution_count": 46,
   "metadata": {},
   "outputs": [
    {
     "output_type": "execute_result",
     "data": {
      "text/plain": [
       "       area    perimeter pysiological_length pysiological_width  aspect_ratio  \\\n",
       "0  773684.0  3626.349748                1188                994      1.195171   \n",
       "\n",
       "   rectangularity  circularity     mean_r     mean_g     mean_b   stddev_r  \\\n",
       "0        1.526298    16.997136  45.492053  51.317457  28.659909  55.462522   \n",
       "\n",
       "   stddev_g   stddev_b   contrast  correlation  inverse_difference_moments  \\\n",
       "0  62.42553  35.532876  14.316771     0.998478                    0.850455   \n",
       "\n",
       "    entropy  \n",
       "0  3.746101  "
      ],
      "text/html": "<div>\n<style scoped>\n    .dataframe tbody tr th:only-of-type {\n        vertical-align: middle;\n    }\n\n    .dataframe tbody tr th {\n        vertical-align: top;\n    }\n\n    .dataframe thead th {\n        text-align: right;\n    }\n</style>\n<table border=\"1\" class=\"dataframe\">\n  <thead>\n    <tr style=\"text-align: right;\">\n      <th></th>\n      <th>area</th>\n      <th>perimeter</th>\n      <th>pysiological_length</th>\n      <th>pysiological_width</th>\n      <th>aspect_ratio</th>\n      <th>rectangularity</th>\n      <th>circularity</th>\n      <th>mean_r</th>\n      <th>mean_g</th>\n      <th>mean_b</th>\n      <th>stddev_r</th>\n      <th>stddev_g</th>\n      <th>stddev_b</th>\n      <th>contrast</th>\n      <th>correlation</th>\n      <th>inverse_difference_moments</th>\n      <th>entropy</th>\n    </tr>\n  </thead>\n  <tbody>\n    <tr>\n      <th>0</th>\n      <td>773684.0</td>\n      <td>3626.349748</td>\n      <td>1188</td>\n      <td>994</td>\n      <td>1.195171</td>\n      <td>1.526298</td>\n      <td>16.997136</td>\n      <td>45.492053</td>\n      <td>51.317457</td>\n      <td>28.659909</td>\n      <td>55.462522</td>\n      <td>62.42553</td>\n      <td>35.532876</td>\n      <td>14.316771</td>\n      <td>0.998478</td>\n      <td>0.850455</td>\n      <td>3.746101</td>\n    </tr>\n  </tbody>\n</table>\n</div>"
     },
     "metadata": {},
     "execution_count": 46
    }
   ],
   "source": [
    "features_of_img = feature_extract(bg_rem_img)\n",
    "features_of_img"
   ]
  },
  {
   "cell_type": "code",
   "execution_count": 47,
   "metadata": {},
   "outputs": [
    {
     "output_type": "stream",
     "name": "stdout",
     "text": [
      "[[ 0.6502853  -0.11745723 -0.50190468  0.49167754 -0.69556504 -0.31809639\n  -0.38551414  0.22019195 -0.21292795  0.01822736  0.58107456 -0.4098229\n  -0.11546612 -0.47775126  0.82482609  1.04759476 -0.43767765]]\n"
     ]
    },
    {
     "output_type": "execute_result",
     "data": {
      "text/plain": [
       "29"
      ]
     },
     "metadata": {},
     "execution_count": 47
    }
   ],
   "source": [
    "scaled_features = sc_X.transform(features_of_img)\n",
    "print(scaled_features)\n",
    "# y_pred_mobile = svm_clf.predict(features_of_img)\n",
    "y_pred_mobile = svm_clf.predict(scaled_features)\n",
    "y_pred_mobile[0]"
   ]
  },
  {
   "cell_type": "code",
   "execution_count": 48,
   "metadata": {},
   "outputs": [
    {
     "output_type": "execute_result",
     "data": {
      "text/plain": [
       "'Canadian poplar'"
      ]
     },
     "metadata": {},
     "execution_count": 48
    }
   ],
   "source": [
    "common_names = ['pubescent bamboo','Chinese horse chestnut','Anhui Barberry', \\\n",
    "                'Chinese redbud','true indigo','Japanese maple','Nanmu',' castor aralia', \\\n",
    "                'Chinese cinnamon','goldenrain tree','Big-fruited Holly','Japanese cheesewood', \\\n",
    "                'wintersweet','camphortree','Japan Arrowwood','sweet osmanthus','deodar','ginkgo, maidenhair tree', \\\n",
    "                'Crape myrtle, Crepe myrtle','oleander','yew plum pine','Japanese Flowering Cherry','Glossy Privet',\\\n",
    "                'Chinese Toon','peach','Ford Woodlotus','trident maple','Beales barberry','southern magnolia',\\\n",
    "                'Canadian poplar','Chinese tulip tree','tangerine'\n",
    "               ]\n",
    "common_names[y_pred_mobile[0]]"
   ]
  },
  {
   "cell_type": "code",
   "execution_count": null,
   "metadata": {},
   "outputs": [],
   "source": []
  },
  {
   "cell_type": "code",
   "execution_count": null,
   "metadata": {},
   "outputs": [],
   "source": []
  }
 ],
 "metadata": {
  "kernelspec": {
   "display_name": "Python 3.8.5 64-bit ('base': conda)",
   "language": "python",
   "name": "python385jvsc74a57bd0b3ba2566441a7c06988d0923437866b63cedc61552a5af99d1f4fb67d367b25f"
  },
  "language_info": {
   "codemirror_mode": {
    "name": "ipython",
    "version": 3
   },
   "file_extension": ".py",
   "mimetype": "text/x-python",
   "name": "python",
   "nbconvert_exporter": "python",
   "pygments_lexer": "ipython3",
   "version": "3.8.5"
  }
 },
 "nbformat": 4,
 "nbformat_minor": 2
}